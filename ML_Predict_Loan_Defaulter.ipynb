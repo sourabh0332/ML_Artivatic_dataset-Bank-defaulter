{
 "cells": [
  {
   "cell_type": "code",
   "execution_count": 1,
   "metadata": {},
   "outputs": [
    {
     "name": "stdout",
     "output_type": "stream",
     "text": [
      "(532428, 45)\n"
     ]
    }
   ],
   "source": [
    "import pandas as pd\n",
    "df_train = pd.read_csv(\"ML_Artivatic_dataset/train_indessa.csv\")\n",
    "\n",
    "df_test = pd.read_csv(\"ML_Artivatic_dataset/test_indessa.csv\")\n",
    "print(df_train.shape)\n"
   ]
  },
  {
   "cell_type": "code",
   "execution_count": 2,
   "metadata": {},
   "outputs": [
    {
     "name": "stdout",
     "output_type": "stream",
     "text": [
      "['desc', 'mths_since_last_record', 'mths_since_last_major_derog', 'verification_status_joint']\n"
     ]
    }
   ],
   "source": [
    "\n",
    "drop_columns = []\n",
    "thresold_freq = 0.75 * df_train.shape[0]\n",
    "for cols in list(df_train.columns):\n",
    "    if (df_train[cols].isna().sum())  > thresold_freq:\n",
    "        drop_columns.append(cols)\n",
    "\n",
    "print(drop_columns)"
   ]
  },
  {
   "cell_type": "code",
   "execution_count": 3,
   "metadata": {},
   "outputs": [
    {
     "name": "stdout",
     "output_type": "stream",
     "text": [
      "Index(['term', 'batch_enrolled', 'grade', 'sub_grade', 'emp_title',\n",
      "       'emp_length', 'home_ownership', 'verification_status', 'pymnt_plan',\n",
      "       'desc', 'purpose', 'title', 'zip_code', 'addr_state',\n",
      "       'initial_list_status', 'application_type', 'verification_status_joint',\n",
      "       'last_week_pay'],\n",
      "      dtype='object')\n",
      "Index(['term', 'batch_enrolled', 'grade', 'sub_grade', 'emp_title',\n",
      "       'emp_length', 'home_ownership', 'verification_status', 'pymnt_plan',\n",
      "       'desc', 'purpose', 'title', 'zip_code', 'addr_state',\n",
      "       'initial_list_status', 'application_type', 'verification_status_joint',\n",
      "       'last_week_pay'],\n",
      "      dtype='object')\n"
     ]
    }
   ],
   "source": [
    "\n",
    "object_data = df_train.select_dtypes(include = ['object']).columns\n",
    "print(object_data)\n",
    "\n",
    "object_data = df_test.select_dtypes(include = ['object']).columns\n",
    "print(object_data)"
   ]
  },
  {
   "cell_type": "code",
   "execution_count": 4,
   "metadata": {},
   "outputs": [
    {
     "name": "stdout",
     "output_type": "stream",
     "text": [
      "Value Counts of key :  term\n",
      "36 months    372793\n",
      "60 months    159635\n",
      "Name: term, dtype: int64\n",
      "Value Counts of key :  term\n",
      "0         36\n",
      "1         36\n",
      "2         36\n",
      "3         36\n",
      "4         36\n",
      "          ..\n",
      "532423    36\n",
      "532424    60\n",
      "532425    60\n",
      "532426    60\n",
      "532427    36\n",
      "Name: term, Length: 532428, dtype: object\n"
     ]
    }
   ],
   "source": [
    "\n",
    "key = object_data[0]\n",
    "print(\"Value Counts of key : \",key)\n",
    "print(df_train[key].value_counts())\n",
    "df_train[key].replace(to_replace = \" months\", value = \"\", regex = True, inplace=True)\n",
    "\n",
    "print(\"Value Counts of key : \",key)\n",
    "print(df_train[key])\n",
    "\n",
    "df_train[key] = pd.to_numeric(df_train[key], errors='coerce')\n",
    "df_test[key].replace(to_replace = \" months\", value = \"\", regex = True, inplace=True)\n",
    "\n",
    "# print(\"Value Counts of key : \",key)\n",
    "# print(df_test[key])\n",
    "\n",
    "df_test[key] = pd.to_numeric(df_test[key], errors='coerce')"
   ]
  },
  {
   "cell_type": "code",
   "execution_count": 5,
   "metadata": {},
   "outputs": [
    {
     "name": "stdout",
     "output_type": "stream",
     "text": [
      "Value Counts of key :  batch_enrolled\n",
      "              106079\n",
      "BAT2252229     18791\n",
      "BAT3873588     17839\n",
      "BAT2803411     17111\n",
      "BAT2078974     14859\n",
      "               ...  \n",
      "BAT4347689        30\n",
      "BAT4884699        29\n",
      "BAT5869156        26\n",
      "BAT5077496        18\n",
      "BAT2331079        13\n",
      "Name: batch_enrolled, Length: 104, dtype: int64\n"
     ]
    },
    {
     "data": {
      "text/plain": [
       "['desc',\n",
       " 'mths_since_last_record',\n",
       " 'mths_since_last_major_derog',\n",
       " 'verification_status_joint',\n",
       " 'batch_enrolled']"
      ]
     },
     "execution_count": 5,
     "metadata": {},
     "output_type": "execute_result"
    }
   ],
   "source": [
    "\n",
    "key = object_data[1]\n",
    "print(\"Value Counts of key : \",key)\n",
    "print(df_train[key].value_counts())\n",
    "drop_columns.append(key)\n",
    "drop_columns"
   ]
  },
  {
   "cell_type": "code",
   "execution_count": null,
   "metadata": {},
   "outputs": [],
   "source": []
  },
  {
   "cell_type": "code",
   "execution_count": 6,
   "metadata": {},
   "outputs": [
    {
     "name": "stdout",
     "output_type": "stream",
     "text": [
      "Value Counts of key :  grade\n",
      "B    152713\n",
      "C    147499\n",
      "A     89107\n",
      "D     83567\n",
      "E     42495\n",
      "F     13826\n",
      "G      3221\n",
      "Name: grade, dtype: int64\n",
      "Value Counts of key :  grade\n",
      "1    152713\n",
      "2    147499\n",
      "0     89107\n",
      "3     83567\n",
      "4     42495\n",
      "5     13826\n",
      "6      3221\n",
      "Name: grade, dtype: int64\n"
     ]
    }
   ],
   "source": [
    "\n",
    "key = object_data[2]\n",
    "print(\"Value Counts of key : \",key)\n",
    "print(df_train[key].value_counts())\n",
    "df_train[key].replace(to_replace='A', value='0', regex=True, inplace=True)\n",
    "df_train[key].replace(to_replace='B', value='1', regex=True, inplace=True)\n",
    "df_train[key].replace(to_replace='C', value='2', regex=True, inplace=True)\n",
    "df_train[key].replace(to_replace='D', value='3', regex=True, inplace=True)\n",
    "df_train[key].replace(to_replace='E', value='4', regex=True, inplace=True)\n",
    "df_train[key].replace(to_replace='F', value='5', regex=True, inplace=True)\n",
    "df_train[key].replace(to_replace='G', value='6', regex=True, inplace=True)\n",
    "\n",
    "print(\"Value Counts of key : \",key)\n",
    "print(df_train[key].value_counts())\n",
    "\n",
    "df_train[key] = pd.to_numeric(df_train[key], errors='coerce')\n",
    "\n",
    "\n",
    "df_test[key].replace(to_replace='A', value='0', regex=True, inplace=True)\n",
    "df_test[key].replace(to_replace='B', value='1', regex=True, inplace=True)\n",
    "df_test[key].replace(to_replace='C', value='2', regex=True, inplace=True)\n",
    "df_test[key].replace(to_replace='D', value='3', regex=True, inplace=True)\n",
    "df_test[key].replace(to_replace='E', value='4', regex=True, inplace=True)\n",
    "df_test[key].replace(to_replace='F', value='5', regex=True, inplace=True)\n",
    "df_test[key].replace(to_replace='G', value='6', regex=True, inplace=True)\n",
    "\n",
    "df_test[key] = pd.to_numeric(df_test[key], errors='coerce')"
   ]
  },
  {
   "cell_type": "code",
   "execution_count": null,
   "metadata": {},
   "outputs": [],
   "source": []
  },
  {
   "cell_type": "code",
   "execution_count": null,
   "metadata": {},
   "outputs": [],
   "source": []
  },
  {
   "cell_type": "code",
   "execution_count": 7,
   "metadata": {},
   "outputs": [
    {
     "name": "stdout",
     "output_type": "stream",
     "text": [
      "Value Counts of key :  sub_grade\n",
      "B3    33844\n",
      "B4    33198\n",
      "C1    31975\n",
      "C2    31356\n",
      "C3    30080\n",
      "B2    29390\n",
      "B5    29313\n",
      "C4    29103\n",
      "A5    27016\n",
      "B1    26968\n",
      "C5    24985\n",
      "D1    21712\n",
      "A4    20823\n",
      "D2    17991\n",
      "D3    15771\n",
      "D4    15226\n",
      "A3    14082\n",
      "A1    13653\n",
      "A2    13533\n",
      "D5    12867\n",
      "E1    10928\n",
      "E2    10255\n",
      "E3     8488\n",
      "E4     7051\n",
      "E5     5773\n",
      "F1     4350\n",
      "F2     3196\n",
      "F3     2708\n",
      "F4     2056\n",
      "F5     1516\n",
      "G1     1112\n",
      "G2      824\n",
      "G3      559\n",
      "G4      391\n",
      "G5      335\n",
      "Name: sub_grade, dtype: int64\n",
      "Value Counts of key :  sub_grade\n",
      "13    33844\n",
      "14    33198\n",
      "21    31975\n",
      "22    31356\n",
      "23    30080\n",
      "12    29390\n",
      "15    29313\n",
      "24    29103\n",
      "05    27016\n",
      "11    26968\n",
      "25    24985\n",
      "31    21712\n",
      "04    20823\n",
      "32    17991\n",
      "33    15771\n",
      "34    15226\n",
      "03    14082\n",
      "01    13653\n",
      "02    13533\n",
      "35    12867\n",
      "41    10928\n",
      "42    10255\n",
      "43     8488\n",
      "44     7051\n",
      "45     5773\n",
      "51     4350\n",
      "52     3196\n",
      "53     2708\n",
      "54     2056\n",
      "55     1516\n",
      "61     1112\n",
      "62      824\n",
      "63      559\n",
      "64      391\n",
      "65      335\n",
      "Name: sub_grade, dtype: int64\n"
     ]
    }
   ],
   "source": [
    "\n",
    "key = object_data[3]\n",
    "print(\"Value Counts of key : \",key)\n",
    "print(df_train[key].value_counts())\n",
    "df_train[key].replace(to_replace='A', value='0', regex=True, inplace=True)\n",
    "df_train[key].replace(to_replace='B', value='1', regex=True, inplace=True)\n",
    "df_train[key].replace(to_replace='C', value='2', regex=True, inplace=True)\n",
    "df_train[key].replace(to_replace='D', value='3', regex=True, inplace=True)\n",
    "df_train[key].replace(to_replace='E', value='4', regex=True, inplace=True)\n",
    "df_train[key].replace(to_replace='F', value='5', regex=True, inplace=True)\n",
    "df_train[key].replace(to_replace='G', value='6', regex=True, inplace=True)\n",
    "print(\"Value Counts of key : \",key)\n",
    "print(df_train[key].value_counts())\n",
    "df_train[key] = pd.to_numeric(df_train[key], errors='coerce')\n",
    "\n",
    "\n",
    "df_test[key].replace(to_replace='A', value='0', regex=True, inplace=True)\n",
    "df_test[key].replace(to_replace='B', value='1', regex=True, inplace=True)\n",
    "df_test[key].replace(to_replace='C', value='2', regex=True, inplace=True)\n",
    "df_test[key].replace(to_replace='D', value='3', regex=True, inplace=True)\n",
    "df_test[key].replace(to_replace='E', value='4', regex=True, inplace=True)\n",
    "df_test[key].replace(to_replace='F', value='5', regex=True, inplace=True)\n",
    "df_test[key].replace(to_replace='G', value='6', regex=True, inplace=True)\n",
    "\n",
    "df_test[key] = pd.to_numeric(df_test[key], errors='coerce')\n"
   ]
  },
  {
   "cell_type": "code",
   "execution_count": null,
   "metadata": {},
   "outputs": [],
   "source": []
  },
  {
   "cell_type": "code",
   "execution_count": null,
   "metadata": {},
   "outputs": [],
   "source": []
  },
  {
   "cell_type": "code",
   "execution_count": 8,
   "metadata": {},
   "outputs": [
    {
     "name": "stdout",
     "output_type": "stream",
     "text": [
      "Value Counts of key :  emp_title\n",
      "532428\n"
     ]
    },
    {
     "data": {
      "text/plain": [
       "['desc',\n",
       " 'mths_since_last_record',\n",
       " 'mths_since_last_major_derog',\n",
       " 'verification_status_joint',\n",
       " 'batch_enrolled',\n",
       " 'emp_title']"
      ]
     },
     "execution_count": 8,
     "metadata": {},
     "output_type": "execute_result"
    }
   ],
   "source": [
    "\n",
    "key = object_data[4]\n",
    "print(\"Value Counts of key : \",key)\n",
    "print(len(df_train[key].values))\n",
    "drop_columns.append(key)\n",
    "drop_columns\n"
   ]
  },
  {
   "cell_type": "code",
   "execution_count": 9,
   "metadata": {},
   "outputs": [
    {
     "name": "stdout",
     "output_type": "stream",
     "text": [
      "Value Counts of key :  emp_length\n",
      "10+ years    175105\n",
      "2 years       47276\n",
      "< 1 year      42253\n",
      "3 years       42175\n",
      "1 year        34202\n",
      "5 years       33393\n",
      "4 years       31581\n",
      "7 years       26680\n",
      "8 years       26443\n",
      "6 years       25741\n",
      "9 years       20688\n",
      "Name: emp_length, dtype: int64\n",
      "Value Counts of key :  emp_length\n",
      "10    175105\n",
      "2      47276\n",
      "0      42253\n",
      "3      42175\n",
      "1      34202\n",
      "5      33393\n",
      "4      31581\n",
      "7      26680\n",
      "8      26443\n",
      "6      25741\n",
      "9      20688\n",
      "Name: emp_length, dtype: int64\n"
     ]
    }
   ],
   "source": [
    "\n",
    "key = object_data[5]\n",
    "print(\"Value Counts of key : \",key)\n",
    "print(df_train[key].value_counts())\n",
    "df_train[key].replace(to_replace='\\+ years', value='', regex=True, inplace=True)\n",
    "df_train[key].replace(to_replace=' years', value='', regex=True, inplace=True)\n",
    "df_train[key].replace(to_replace='< 1 year', value='0', regex=True, inplace=True)\n",
    "df_train[key].replace(to_replace=' year', value='', regex=True, inplace=True)\n",
    "\n",
    "print(\"Value Counts of key : \",key)\n",
    "print(df_train[key].value_counts())\n",
    "df_train[key] = pd.to_numeric(df_train[key], errors='coerce')\n",
    "\n",
    "\n",
    "df_test[key].replace(to_replace='\\+ years', value='', regex=True, inplace=True)\n",
    "df_test[key].replace(to_replace=' years', value='', regex=True, inplace=True)\n",
    "df_test[key].replace(to_replace='< 1 year', value='0', regex=True, inplace=True)\n",
    "df_test[key].replace(to_replace=' year', value='', regex=True, inplace=True)\n",
    "\n",
    "\n",
    "df_test[key] = pd.to_numeric(df_test[key], errors='coerce')"
   ]
  },
  {
   "cell_type": "code",
   "execution_count": null,
   "metadata": {},
   "outputs": [],
   "source": []
  },
  {
   "cell_type": "code",
   "execution_count": 10,
   "metadata": {},
   "outputs": [
    {
     "name": "stdout",
     "output_type": "stream",
     "text": [
      "Value Counts of key :  home_ownership\n",
      "MORTGAGE    265940\n",
      "RENT        213668\n",
      "OWN          52664\n",
      "OTHER          117\n",
      "NONE            36\n",
      "ANY              3\n",
      "Name: home_ownership, dtype: int64\n",
      "Value Counts of key :  home_ownership\n",
      "5    265940\n",
      "4    213668\n",
      "3     52664\n",
      "2       117\n",
      "1        36\n",
      "0         3\n",
      "Name: home_ownership, dtype: int64\n"
     ]
    }
   ],
   "source": [
    "\n",
    "key = object_data[6]\n",
    "print(\"Value Counts of key : \",key)\n",
    "print(df_train[key].value_counts())\n",
    "df_train[key].replace(to_replace='ANY', value='0', regex=True, inplace=True)\n",
    "df_train[key].replace(to_replace='NONE', value='1', regex=True, inplace=True)\n",
    "            \n",
    "df_train[key].replace(to_replace='OTHER', value='2', regex=True, inplace=True)\n",
    "df_train[key].replace(to_replace='OWN', value='3', regex=True, inplace=True)\n",
    "df_train[key].replace(to_replace='RENT', value='4', regex=True, inplace=True)\n",
    "df_train[key].replace(to_replace='MORTGAGE', value='5', regex=True, inplace=True)\n",
    "print(\"Value Counts of key : \",key)\n",
    "print(df_train[key].value_counts())\n",
    "df_train[key] = pd.to_numeric(df_train[key], errors='coerce')\n",
    "\n",
    "\n",
    "df_test[key].replace(to_replace='ANY', value='0', regex=True, inplace=True)\n",
    "df_test[key].replace(to_replace='NONE', value='1', regex=True, inplace=True)\n",
    "            \n",
    "df_test[key].replace(to_replace='OTHER', value='2', regex=True, inplace=True)\n",
    "df_test[key].replace(to_replace='OWN', value='3', regex=True, inplace=True)\n",
    "df_test[key].replace(to_replace='RENT', value='4', regex=True, inplace=True)\n",
    "df_test[key].replace(to_replace='MORTGAGE', value='5', regex=True, inplace=True)\n",
    "\n",
    "df_test[key] = pd.to_numeric(df_test[key], errors='coerce')"
   ]
  },
  {
   "cell_type": "code",
   "execution_count": 11,
   "metadata": {},
   "outputs": [
    {
     "name": "stdout",
     "output_type": "stream",
     "text": [
      "Value Counts of key :  verification_status\n",
      "Source Verified    197750\n",
      "Verified           174702\n",
      "Not Verified       159976\n",
      "Name: verification_status, dtype: int64\n",
      "Value Counts of key :  verification_status\n",
      "2    197750\n",
      "1    174702\n",
      "0    159976\n",
      "Name: verification_status, dtype: int64\n"
     ]
    }
   ],
   "source": [
    "\n",
    "key = object_data[7]\n",
    "print(\"Value Counts of key : \",key)\n",
    "print(df_train[key].value_counts())\n",
    "\n",
    "df_train[key].replace(to_replace='Source Verified', value='2', regex=True, inplace=True)\n",
    "df_train[key].replace(to_replace='Not Verified', value='0', regex=True, inplace=True)\n",
    "df_train[key].replace(to_replace='Verified', value='1', regex=True, inplace=True)\n",
    "\n",
    "\n",
    "print(\"Value Counts of key : \",key)\n",
    "print(df_train[key].value_counts())\n",
    "df_train[key] = pd.to_numeric(df_train[key], errors='coerce')\n",
    "\n",
    "\n",
    "df_test[key].replace(to_replace='Source Verified', value='2', regex=True, inplace=True)\n",
    "df_test[key].replace(to_replace='Not Verified', value='0', regex=True, inplace=True)\n",
    "df_test[key].replace(to_replace='Verified', value='1', regex=True, inplace=True)\n",
    "\n",
    "\n",
    "df_test[key] = pd.to_numeric(df_test[key], errors='coerce')"
   ]
  },
  {
   "cell_type": "code",
   "execution_count": null,
   "metadata": {},
   "outputs": [],
   "source": []
  },
  {
   "cell_type": "code",
   "execution_count": 12,
   "metadata": {},
   "outputs": [
    {
     "name": "stdout",
     "output_type": "stream",
     "text": [
      "Value Counts of key :  pymnt_plan\n",
      "n    532420\n",
      "y         8\n",
      "Name: pymnt_plan, dtype: int64\n",
      "Value Counts of key :  pymnt_plan\n",
      "0    532420\n",
      "1         8\n",
      "Name: pymnt_plan, dtype: int64\n"
     ]
    }
   ],
   "source": [
    "\n",
    "key = object_data[8]\n",
    "print(\"Value Counts of key : \",key)\n",
    "print(df_train[key].value_counts())\n",
    "df_train[key].replace(to_replace='n', value='0', regex=True, inplace=True)\n",
    "df_train[key].replace(to_replace='y', value='1', regex=True, inplace=True)\n",
    "\n",
    "\n",
    "print(\"Value Counts of key : \",key)\n",
    "print(df_train[key].value_counts())\n",
    "df_train[key] = pd.to_numeric(df_train[key], errors='coerce')\n",
    "\n",
    "df_test[key].replace(to_replace='n', value='0', regex=True, inplace=True)\n",
    "df_test[key].replace(to_replace='y', value='1', regex=True, inplace=True)\n",
    "\n",
    "df_test[key] = pd.to_numeric(df_test[key], errors='coerce')\n"
   ]
  },
  {
   "cell_type": "code",
   "execution_count": null,
   "metadata": {},
   "outputs": [],
   "source": []
  },
  {
   "cell_type": "code",
   "execution_count": 13,
   "metadata": {},
   "outputs": [
    {
     "name": "stdout",
     "output_type": "stream",
     "text": [
      "Value Counts of key :  desc\n",
      "> Debt consolidation<br>                                                                                                                                                                                                                                                                                                                                                                                                                                                                                                                                                                                                                                                              576\n",
      "> Debt Consolidation<br>                                                                                                                                                                                                                                                                                                                                                                                                                                                                                                                                                                                                                                                              372\n",
      "> debt consolidation<br>                                                                                                                                                                                                                                                                                                                                                                                                                                                                                                                                                                                                                                                              347\n",
      "> Debt consolidation.<br>                                                                                                                                                                                                                                                                                                                                                                                                                                                                                                                                                                                                                                                             131\n",
      "> Pay off credit cards<br>                                                                                                                                                                                                                                                                                                                                                                                                                                                                                                                                                                                                                                                            122\n",
      "                                                                                                                                                                                                                                                                                                                                                                                                                                                                                                                                                                                                                                                                                     ... \n",
      "> we need to pave our driveway is it all broken up and someone can fall on it<br>                                                                                                                                                                                                                                                                                                                                                                                                                                                                                                                                                                                                       1\n",
      "> This loan is for a debt reduction and to pay off some unexpected expenses. I have decent credit and am not late on any bills.  I am employed full time and have been at the same place of employed for over 7 years.<br>                                                                                                                                                                                                                                                                                                                                                                                                                                                              1\n",
      "   > Need some extra money to buy my girlfriend the engagement ring of her dreams. I have a good job with a good salary, but don't have the extra cash laying around at the moment.<br><br>   > This is the ring: Hearts on Fire Beloved Open Gallery Engagement Ring (couldn't post the link)<br>                                                                                                                                                                                                                                                                                                                                                                                      1\n",
      "> Im a full time bartender at a locally own family restaurant that has been open for 20 plus years.  I've been working there for 6 years and i actually work with my older sister that has been there for 10 years. I am one 3 bartenders and one of the highest payed front of the house employees. Im using the loan to avoid the super high interest rates. Ive been on my own since i was 18(now 25)and collected some debt and have been trying to pay the cards off. I plan on making larger payments or extra ones cause i'm trying to repay the loan super fast so i can be debt free and then hopefully start investing back into the club so i can make some money!<br/>      1\n",
      "> Consolidation of debt with payment over a fixed period.<br>                                                                                                                                                                                                                                                                                                                                                                                                                                                                                                                                                                                                                           1\n",
      "Name: desc, Length: 70638, dtype: int64\n"
     ]
    },
    {
     "data": {
      "text/plain": [
       "['desc',\n",
       " 'mths_since_last_record',\n",
       " 'mths_since_last_major_derog',\n",
       " 'verification_status_joint',\n",
       " 'batch_enrolled',\n",
       " 'emp_title',\n",
       " 'desc']"
      ]
     },
     "execution_count": 13,
     "metadata": {},
     "output_type": "execute_result"
    }
   ],
   "source": [
    "\n",
    "key = object_data[9]\n",
    "print(\"Value Counts of key : \",key)\n",
    "print(df_train[key].value_counts())\n",
    "drop_columns.append(key)\n",
    "drop_columns"
   ]
  },
  {
   "cell_type": "code",
   "execution_count": 14,
   "metadata": {},
   "outputs": [
    {
     "name": "stdout",
     "output_type": "stream",
     "text": [
      "Value Counts of key :  purpose\n",
      "debt_consolidation    314989\n",
      "credit_card           123670\n",
      "home_improvement       31087\n",
      "other                  25652\n",
      "major_purchase         10284\n",
      "small_business          6146\n",
      "car                     5266\n",
      "medical                 5117\n",
      "moving                  3243\n",
      "vacation                2812\n",
      "house                   2170\n",
      "wedding                 1401\n",
      "renewable_energy         331\n",
      "educational              260\n",
      "Name: purpose, dtype: int64\n",
      "13    314989\n",
      "12    123670\n",
      "11     31087\n",
      "0      25652\n",
      "10     10284\n",
      "9       6146\n",
      "8       5266\n",
      "7       5117\n",
      "6       3243\n",
      "5       2812\n",
      "4       2170\n",
      "3       1401\n",
      "2        331\n",
      "1        260\n",
      "Name: purpose, dtype: int64\n"
     ]
    }
   ],
   "source": [
    "\n",
    "key = object_data[10]\n",
    "print(\"Value Counts of key : \",key)\n",
    "print(df_train[key].value_counts())\n",
    "df_train[key].replace(to_replace='other', value='0', regex=True, inplace=True)\n",
    "df_train[key].replace(to_replace='educational', value='1', regex=True, inplace=True)\n",
    "df_train[key].replace(to_replace='renewable_energy', value='2', regex=True, inplace=True)\n",
    "df_train[key].replace(to_replace='wedding', value='3', regex=True, inplace=True)\n",
    "df_train[key].replace(to_replace='house', value='4', regex=True, inplace=True)\n",
    "df_train[key].replace(to_replace='vacation', value='5', regex=True, inplace=True)\n",
    "df_train[key].replace(to_replace='moving', value='6', regex=True, inplace=True)\n",
    "df_train[key].replace(to_replace='medical', value='7', regex=True, inplace=True)\n",
    "df_train[key].replace(to_replace='car', value='8', regex=True, inplace=True)\n",
    "df_train[key].replace(to_replace='small_business', value='9', regex=True, inplace=True)\n",
    "df_train[key].replace(to_replace='major_purchase', value='10', regex=True, inplace=True)\n",
    "df_train[key].replace(to_replace='home_improvement', value='11', regex=True, inplace=True)\n",
    "df_train[key].replace(to_replace='credit_8d', value='12', regex=True, inplace=True)\n",
    "df_train[key].replace(to_replace='debt_consolidation', value='13', regex=True, inplace=True)\n",
    "print(df_train[key].value_counts())\n",
    "df_train[key] = pd.to_numeric(df_train[key], errors='coerce')\n",
    "\n",
    "\n",
    "\n",
    "df_test[key].replace(to_replace='other', value='0', regex=True, inplace=True)\n",
    "df_test[key].replace(to_replace='educational', value='1', regex=True, inplace=True)\n",
    "df_test[key].replace(to_replace='renewable_energy', value='2', regex=True, inplace=True)\n",
    "df_test[key].replace(to_replace='wedding', value='3', regex=True, inplace=True)\n",
    "df_test[key].replace(to_replace='house', value='4', regex=True, inplace=True)\n",
    "df_test[key].replace(to_replace='vacation', value='5', regex=True, inplace=True)\n",
    "df_test[key].replace(to_replace='moving', value='6', regex=True, inplace=True)\n",
    "df_test[key].replace(to_replace='medical', value='7', regex=True, inplace=True)\n",
    "df_test[key].replace(to_replace='car', value='8', regex=True, inplace=True)\n",
    "df_test[key].replace(to_replace='small_business', value='9', regex=True, inplace=True)\n",
    "df_test[key].replace(to_replace='major_purchase', value='10', regex=True, inplace=True)\n",
    "df_test[key].replace(to_replace='home_improvement', value='11', regex=True, inplace=True)\n",
    "df_test[key].replace(to_replace='credit_8d', value='12', regex=True, inplace=True)\n",
    "df_test[key].replace(to_replace='debt_consolidation', value='13', regex=True, inplace=True)\n",
    "\n",
    "df_test[key] = pd.to_numeric(df_test[key], errors='coerce')"
   ]
  },
  {
   "cell_type": "code",
   "execution_count": null,
   "metadata": {},
   "outputs": [],
   "source": []
  },
  {
   "cell_type": "code",
   "execution_count": 15,
   "metadata": {},
   "outputs": [
    {
     "name": "stdout",
     "output_type": "stream",
     "text": [
      "Value Counts of key :  title\n",
      "Debt consolidation                  248967\n",
      "Credit card refinancing              98582\n",
      "Home improvement                     24057\n",
      "Other                                19053\n",
      "Debt Consolidation                    9932\n",
      "                                     ...  \n",
      "no bills                                 1\n",
      "debt consolidation & home imprv.         1\n",
      "Private Student Loans                    1\n",
      "New HOm                                  1\n",
      "Taking My Finances Back                  1\n",
      "Name: title, Length: 39693, dtype: int64\n"
     ]
    },
    {
     "data": {
      "text/plain": [
       "['desc',\n",
       " 'mths_since_last_record',\n",
       " 'mths_since_last_major_derog',\n",
       " 'verification_status_joint',\n",
       " 'batch_enrolled',\n",
       " 'emp_title',\n",
       " 'desc',\n",
       " 'title']"
      ]
     },
     "execution_count": 15,
     "metadata": {},
     "output_type": "execute_result"
    }
   ],
   "source": [
    "\n",
    "key = object_data[11]\n",
    "print(\"Value Counts of key : \",key)\n",
    "print(df_train[key].value_counts())\n",
    "drop_columns.append(key)\n",
    "drop_columns"
   ]
  },
  {
   "cell_type": "code",
   "execution_count": null,
   "metadata": {},
   "outputs": [],
   "source": []
  },
  {
   "cell_type": "code",
   "execution_count": 16,
   "metadata": {},
   "outputs": [
    {
     "name": "stdout",
     "output_type": "stream",
     "text": [
      "Value Counts of key :  zip_code\n",
      "945xx    5845\n",
      "750xx    5680\n",
      "112xx    5632\n",
      "606xx    5176\n",
      "300xx    4757\n",
      "         ... \n",
      "854xx       1\n",
      "819xx       1\n",
      "522xx       1\n",
      "340xx       1\n",
      "523xx       1\n",
      "Name: zip_code, Length: 917, dtype: int64\n",
      "945    5845\n",
      "750    5680\n",
      "112    5632\n",
      "606    5176\n",
      "300    4757\n",
      "       ... \n",
      "888       1\n",
      "835       1\n",
      "507       1\n",
      "682       1\n",
      "649       1\n",
      "Name: zip_code, Length: 917, dtype: int64\n"
     ]
    }
   ],
   "source": [
    "\n",
    "key = object_data[12]\n",
    "print(\"Value Counts of key : \",key)\n",
    "print(df_train[key].value_counts())\n",
    "df_train[key].replace(to_replace='xx', value='', regex=True, inplace=True)\n",
    "print(df_train[key].value_counts())\n",
    "\n",
    "df_train[key] = pd.to_numeric(df_train[key], errors='coerce')\n",
    "\n",
    "df_test[key].replace(to_replace='xx', value='', regex=True, inplace=True)\n",
    "\n",
    "\n",
    "df_test[key] = pd.to_numeric(df_test[key], errors='coerce')"
   ]
  },
  {
   "cell_type": "code",
   "execution_count": 17,
   "metadata": {},
   "outputs": [
    {
     "name": "stdout",
     "output_type": "stream",
     "text": [
      "Value Counts of key :  addr_state\n",
      "CA    77911\n",
      "NY    44406\n",
      "TX    42527\n",
      "FL    36575\n",
      "IL    21205\n",
      "NJ    20103\n",
      "PA    18882\n",
      "OH    17778\n",
      "GA    17292\n",
      "VA    15826\n",
      "NC    14812\n",
      "MI    13869\n",
      "MD    12667\n",
      "MA    12385\n",
      "AZ    12320\n",
      "WA    11664\n",
      "CO    11233\n",
      "MN     9577\n",
      "MO     8538\n",
      "IN     8197\n",
      "CT     8075\n",
      "TN     7817\n",
      "NV     7408\n",
      "WI     6880\n",
      "AL     6699\n",
      "OR     6549\n",
      "SC     6331\n",
      "LA     6304\n",
      "KY     5140\n",
      "KS     4818\n",
      "OK     4797\n",
      "AR     3988\n",
      "UT     3829\n",
      "NM     2958\n",
      "HI     2705\n",
      "WV     2615\n",
      "NH     2568\n",
      "RI     2322\n",
      "MS     2296\n",
      "MT     1545\n",
      "DE     1512\n",
      "DC     1477\n",
      "AK     1346\n",
      "WY     1198\n",
      "SD     1091\n",
      "VT     1062\n",
      "NE      709\n",
      "ME      324\n",
      "ND      284\n",
      "IA        7\n",
      "ID        7\n",
      "Name: addr_state, dtype: int64\n",
      "20      77911\n",
      "1324    44406\n",
      "1923    42527\n",
      "511     36575\n",
      "811     21205\n",
      "139     20103\n",
      "150     18882\n",
      "147     17778\n",
      "60      17292\n",
      "210     15826\n",
      "132     14812\n",
      "128     13869\n",
      "123     12667\n",
      "120     12385\n",
      "025     12320\n",
      "220     11664\n",
      "214     11233\n",
      "1213     9577\n",
      "1214     8538\n",
      "813      8197\n",
      "219      8075\n",
      "1913     7817\n",
      "1321     7408\n",
      "228      6880\n",
      "011      6699\n",
      "1417     6549\n",
      "182      6331\n",
      "110      6304\n",
      "1024     5140\n",
      "1018     4818\n",
      "1410     4797\n",
      "017      3988\n",
      "2019     3829\n",
      "1312     2958\n",
      "78       2705\n",
      "2221     2615\n",
      "137      2568\n",
      "178      2322\n",
      "1218     2296\n",
      "1219     1545\n",
      "34       1512\n",
      "32       1477\n",
      "010      1346\n",
      "2224     1198\n",
      "183      1091\n",
      "2119     1062\n",
      "134       709\n",
      "124       324\n",
      "133       284\n",
      "83          7\n",
      "80          7\n",
      "Name: addr_state, dtype: int64\n"
     ]
    }
   ],
   "source": [
    "\n",
    "key = object_data[13]\n",
    "print(\"Value Counts of key : \",key)\n",
    "print(df_train[key].value_counts())\n",
    "# address_country = pd.get_dummies(df_train[key] , prefix = \"address_\")\n",
    "# df_train = pd.concat([df_train,address_country])\n",
    "df_train[key].replace(to_replace='A', value='0', regex=True, inplace=True)\n",
    "df_train[key].replace(to_replace='B', value='1', regex=True, inplace=True)\n",
    "df_train[key].replace(to_replace='C', value='2', regex=True, inplace=True)\n",
    "df_train[key].replace(to_replace='D', value='3', regex=True, inplace=True)\n",
    "df_train[key].replace(to_replace='E', value='4', regex=True, inplace=True)\n",
    "df_train[key].replace(to_replace='F', value='5', regex=True, inplace=True)\n",
    "df_train[key].replace(to_replace='G', value='6', regex=True, inplace=True)\n",
    "df_train[key].replace(to_replace='H', value='7', regex=True, inplace=True)\n",
    "df_train[key].replace(to_replace='I', value='8', regex=True, inplace=True)\n",
    "df_train[key].replace(to_replace='J', value='9', regex=True, inplace=True)\n",
    "df_train[key].replace(to_replace='K', value='10', regex=True, inplace=True)\n",
    "df_train[key].replace(to_replace='L', value='11', regex=True, inplace=True)\n",
    "df_train[key].replace(to_replace='M', value='12', regex=True, inplace=True)\n",
    "df_train[key].replace(to_replace='N', value='13', regex=True, inplace=True)\n",
    "df_train[key].replace(to_replace='O', value='14', regex=True, inplace=True)\n",
    "df_train[key].replace(to_replace='P', value='15', regex=True, inplace=True)\n",
    "df_train[key].replace(to_replace='Q', value='16', regex=True, inplace=True)\n",
    "df_train[key].replace(to_replace='R', value='17', regex=True, inplace=True)\n",
    "df_train[key].replace(to_replace='S', value='18', regex=True, inplace=True)\n",
    "df_train[key].replace(to_replace='T', value='19', regex=True, inplace=True)\n",
    "df_train[key].replace(to_replace='U', value='20', regex=True, inplace=True)\n",
    "df_train[key].replace(to_replace='V', value='21', regex=True, inplace=True)\n",
    "df_train[key].replace(to_replace='W', value='22', regex=True, inplace=True)\n",
    "df_train[key].replace(to_replace='X', value='23', regex=True, inplace=True)\n",
    "df_train[key].replace(to_replace='Y', value='24', regex=True, inplace=True)\n",
    "df_train[key].replace(to_replace='Z', value='25', regex=True, inplace=True)\n",
    "print(df_train[key].value_counts())\n",
    "\n",
    "df_train[key] = pd.to_numeric(df_train[key], errors='coerce')\n",
    "\n",
    "\n",
    "df_test[key].replace(to_replace='A', value='0', regex=True, inplace=True)\n",
    "df_test[key].replace(to_replace='B', value='1', regex=True, inplace=True)\n",
    "df_test[key].replace(to_replace='C', value='2', regex=True, inplace=True)\n",
    "df_test[key].replace(to_replace='D', value='3', regex=True, inplace=True)\n",
    "df_test[key].replace(to_replace='E', value='4', regex=True, inplace=True)\n",
    "df_test[key].replace(to_replace='F', value='5', regex=True, inplace=True)\n",
    "df_test[key].replace(to_replace='G', value='6', regex=True, inplace=True)\n",
    "df_test[key].replace(to_replace='H', value='7', regex=True, inplace=True)\n",
    "df_test[key].replace(to_replace='I', value='8', regex=True, inplace=True)\n",
    "df_test[key].replace(to_replace='J', value='9', regex=True, inplace=True)\n",
    "df_test[key].replace(to_replace='K', value='10', regex=True, inplace=True)\n",
    "df_test[key].replace(to_replace='L', value='11', regex=True, inplace=True)\n",
    "df_test[key].replace(to_replace='M', value='12', regex=True, inplace=True)\n",
    "df_test[key].replace(to_replace='N', value='13', regex=True, inplace=True)\n",
    "df_test[key].replace(to_replace='O', value='14', regex=True, inplace=True)\n",
    "df_test[key].replace(to_replace='P', value='15', regex=True, inplace=True)\n",
    "df_test[key].replace(to_replace='Q', value='16', regex=True, inplace=True)\n",
    "df_test[key].replace(to_replace='R', value='17', regex=True, inplace=True)\n",
    "df_test[key].replace(to_replace='S', value='18', regex=True, inplace=True)\n",
    "df_test[key].replace(to_replace='T', value='19', regex=True, inplace=True)\n",
    "df_test[key].replace(to_replace='U', value='20', regex=True, inplace=True)\n",
    "df_test[key].replace(to_replace='V', value='21', regex=True, inplace=True)\n",
    "df_test[key].replace(to_replace='W', value='22', regex=True, inplace=True)\n",
    "df_test[key].replace(to_replace='X', value='23', regex=True, inplace=True)\n",
    "df_test[key].replace(to_replace='Y', value='24', regex=True, inplace=True)\n",
    "df_test[key].replace(to_replace='Z', value='25', regex=True, inplace=True)\n",
    "\n",
    "df_test[key] = pd.to_numeric(df_test[key], errors='coerce')\n"
   ]
  },
  {
   "cell_type": "code",
   "execution_count": null,
   "metadata": {},
   "outputs": [],
   "source": []
  },
  {
   "cell_type": "code",
   "execution_count": null,
   "metadata": {},
   "outputs": [],
   "source": []
  },
  {
   "cell_type": "code",
   "execution_count": 18,
   "metadata": {},
   "outputs": [
    {
     "name": "stdout",
     "output_type": "stream",
     "text": [
      "Value Counts of key :  initial_list_status\n",
      "f    274018\n",
      "w    258410\n",
      "Name: initial_list_status, dtype: int64\n",
      "0    274018\n",
      "1    258410\n",
      "Name: initial_list_status, dtype: int64\n"
     ]
    }
   ],
   "source": [
    "\n",
    "key = object_data[14]\n",
    "print(\"Value Counts of key : \",key)\n",
    "print(df_train[key].value_counts())\n",
    "df_train[key].replace(to_replace='f', value='0', regex=True, inplace=True)\n",
    "df_train[key].replace(to_replace='w', value='1', regex=True, inplace=True)\n",
    "print(df_train[key].value_counts())\n",
    "df_train[key] = pd.to_numeric(df_train[key], errors='coerce')\n",
    "\n",
    "\n",
    "df_test[key].replace(to_replace='f', value='0', regex=True, inplace=True)\n",
    "df_test[key].replace(to_replace='w', value='1', regex=True, inplace=True)\n",
    "\n",
    "df_test[key] = pd.to_numeric(df_test[key], errors='coerce')\n"
   ]
  },
  {
   "cell_type": "code",
   "execution_count": null,
   "metadata": {},
   "outputs": [],
   "source": []
  },
  {
   "cell_type": "code",
   "execution_count": 19,
   "metadata": {},
   "outputs": [
    {
     "name": "stdout",
     "output_type": "stream",
     "text": [
      "Value Counts of key :  application_type\n",
      "INDIVIDUAL    532123\n",
      "JOINT            305\n",
      "Name: application_type, dtype: int64\n",
      "0    532123\n",
      "1       305\n",
      "Name: application_type, dtype: int64\n"
     ]
    }
   ],
   "source": [
    "\n",
    "key = object_data[15]\n",
    "print(\"Value Counts of key : \",key)\n",
    "print(df_train[key].value_counts())\n",
    "df_train[key].replace(to_replace='INDIVIDUAL', value='0', regex=True, inplace=True)\n",
    "df_train[key].replace(to_replace='JOINT', value='1', regex=True, inplace=True)\n",
    "print(df_train[key].value_counts())\n",
    "df_train[key] = pd.to_numeric(df_train[key], errors='coerce')\n",
    "\n",
    "\n",
    "df_test[key].replace(to_replace='INDIVIDUAL', value='0', regex=True, inplace=True)\n",
    "df_test[key].replace(to_replace='JOINT', value='1', regex=True, inplace=True)\n",
    "\n",
    "df_test[key] = pd.to_numeric(df_test[key], errors='coerce')\n"
   ]
  },
  {
   "cell_type": "code",
   "execution_count": 20,
   "metadata": {},
   "outputs": [
    {
     "name": "stdout",
     "output_type": "stream",
     "text": [
      "Value Counts of key :  verification_status_joint\n",
      "Not Verified       170\n",
      "Verified           102\n",
      "Source Verified     33\n",
      "Name: verification_status_joint, dtype: int64\n",
      "0           170\n",
      "1           102\n",
      "Source 1     33\n",
      "Name: verification_status_joint, dtype: int64\n"
     ]
    }
   ],
   "source": [
    "\n",
    "key = object_data[16]\n",
    "print(\"Value Counts of key : \",key)\n",
    "print(df_train[key].value_counts())\n",
    "df_train[key].replace(to_replace='Not Verified', value='0', regex=True, inplace=True)\n",
    "df_train[key].replace(to_replace='Verified', value='1', regex=True, inplace=True)\n",
    "df_train[key].replace(to_replace='Source Verified', value='2', regex=True, inplace=True)\n",
    "\n",
    "print(df_train[key].value_counts())\n",
    "df_train[key] = pd.to_numeric(df_train[key], errors='coerce')\n",
    "\n",
    "df_test[key].replace(to_replace='Not Verified', value='0', regex=True, inplace=True)\n",
    "df_test[key].replace(to_replace='Verified', value='1', regex=True, inplace=True)\n",
    "df_test[key].replace(to_replace='Source Verified', value='2', regex=True, inplace=True)\n",
    "\n",
    "df_test[key] = pd.to_numeric(df_test[key], errors='coerce')\n",
    "\n"
   ]
  },
  {
   "cell_type": "code",
   "execution_count": null,
   "metadata": {},
   "outputs": [],
   "source": []
  },
  {
   "cell_type": "code",
   "execution_count": 21,
   "metadata": {},
   "outputs": [
    {
     "name": "stdout",
     "output_type": "stream",
     "text": [
      "Value Counts of key :  last_week_pay\n",
      "13th week     30333\n",
      "9th week      28626\n",
      "26th week     27475\n",
      "22th week     26000\n",
      "4th week      25704\n",
      "              ...  \n",
      "300th week        1\n",
      "304th week        1\n",
      "278th week        1\n",
      "274th week        1\n",
      "283th week        1\n",
      "Name: last_week_pay, Length: 98, dtype: int64\n",
      "13     30333\n",
      "9      28626\n",
      "26     27475\n",
      "22     26000\n",
      "4      25704\n",
      "       ...  \n",
      "269        1\n",
      "300        1\n",
      "274        1\n",
      "304        1\n",
      "278        1\n",
      "Name: last_week_pay, Length: 98, dtype: int64\n"
     ]
    }
   ],
   "source": [
    "\n",
    "key = object_data[17]\n",
    "print(\"Value Counts of key : \",key)\n",
    "print(df_train[key].value_counts())\n",
    "df_train[key].replace(to_replace='th week', value='', regex=True, inplace=True)\n",
    "\n",
    "print(df_train[key].value_counts())\n",
    "\n",
    "df_train[key] = pd.to_numeric(df_train[key], errors='coerce')\n",
    "\n",
    "df_test[key].replace(to_replace='th week', value='', regex=True, inplace=True)\n",
    "\n",
    "\n",
    "df_test[key] = pd.to_numeric(df_test[key], errors='coerce')"
   ]
  },
  {
   "cell_type": "code",
   "execution_count": null,
   "metadata": {},
   "outputs": [],
   "source": []
  },
  {
   "cell_type": "code",
   "execution_count": 22,
   "metadata": {},
   "outputs": [],
   "source": [
    "df_train = df_train.drop(columns = drop_columns)\n",
    "df_test = df_test.drop(columns = drop_columns)"
   ]
  },
  {
   "cell_type": "code",
   "execution_count": 23,
   "metadata": {},
   "outputs": [
    {
     "data": {
      "text/plain": [
       "Index(['member_id', 'loan_amnt', 'funded_amnt', 'funded_amnt_inv', 'term',\n",
       "       'int_rate', 'grade', 'sub_grade', 'emp_length', 'home_ownership',\n",
       "       'annual_inc', 'verification_status', 'pymnt_plan', 'purpose',\n",
       "       'zip_code', 'addr_state', 'dti', 'delinq_2yrs', 'inq_last_6mths',\n",
       "       'mths_since_last_delinq', 'open_acc', 'pub_rec', 'revol_bal',\n",
       "       'revol_util', 'total_acc', 'initial_list_status', 'total_rec_int',\n",
       "       'total_rec_late_fee', 'recoveries', 'collection_recovery_fee',\n",
       "       'collections_12_mths_ex_med', 'application_type', 'last_week_pay',\n",
       "       'acc_now_delinq', 'tot_coll_amt', 'tot_cur_bal', 'total_rev_hi_lim',\n",
       "       'loan_status'],\n",
       "      dtype='object')"
      ]
     },
     "execution_count": 23,
     "metadata": {},
     "output_type": "execute_result"
    }
   ],
   "source": [
    "df_train.columns"
   ]
  },
  {
   "cell_type": "code",
   "execution_count": 24,
   "metadata": {},
   "outputs": [
    {
     "name": "stdout",
     "output_type": "stream",
     "text": [
      "Index([], dtype='object')\n",
      "Index([], dtype='object')\n"
     ]
    }
   ],
   "source": [
    "\n",
    "object_data = df_train.select_dtypes(include = ['object']).columns\n",
    "print(object_data)\n",
    "\n",
    "object_data = df_test.select_dtypes(include = ['object']).columns\n",
    "print(object_data)"
   ]
  },
  {
   "cell_type": "code",
   "execution_count": null,
   "metadata": {},
   "outputs": [],
   "source": []
  },
  {
   "cell_type": "code",
   "execution_count": 25,
   "metadata": {},
   "outputs": [
    {
     "name": "stdout",
     "output_type": "stream",
     "text": [
      "<class 'pandas.core.frame.DataFrame'>\n",
      "RangeIndex: 532428 entries, 0 to 532427\n",
      "Data columns (total 38 columns):\n",
      " #   Column                      Non-Null Count   Dtype  \n",
      "---  ------                      --------------   -----  \n",
      " 0   member_id                   532428 non-null  int64  \n",
      " 1   loan_amnt                   532428 non-null  int64  \n",
      " 2   funded_amnt                 532428 non-null  int64  \n",
      " 3   funded_amnt_inv             532428 non-null  float64\n",
      " 4   term                        532428 non-null  int64  \n",
      " 5   int_rate                    532428 non-null  float64\n",
      " 6   grade                       532428 non-null  int64  \n",
      " 7   sub_grade                   532428 non-null  int64  \n",
      " 8   emp_length                  505537 non-null  float64\n",
      " 9   home_ownership              532428 non-null  int64  \n",
      " 10  annual_inc                  532425 non-null  float64\n",
      " 11  verification_status         532428 non-null  int64  \n",
      " 12  pymnt_plan                  532428 non-null  int64  \n",
      " 13  purpose                     532428 non-null  int64  \n",
      " 14  zip_code                    532428 non-null  int64  \n",
      " 15  addr_state                  532428 non-null  int64  \n",
      " 16  dti                         532428 non-null  float64\n",
      " 17  delinq_2yrs                 532412 non-null  float64\n",
      " 18  inq_last_6mths              532412 non-null  float64\n",
      " 19  mths_since_last_delinq      259874 non-null  float64\n",
      " 20  open_acc                    532412 non-null  float64\n",
      " 21  pub_rec                     532412 non-null  float64\n",
      " 22  revol_bal                   532428 non-null  float64\n",
      " 23  revol_util                  532141 non-null  float64\n",
      " 24  total_acc                   532412 non-null  float64\n",
      " 25  initial_list_status         532428 non-null  int64  \n",
      " 26  total_rec_int               532428 non-null  float64\n",
      " 27  total_rec_late_fee          532428 non-null  float64\n",
      " 28  recoveries                  532428 non-null  float64\n",
      " 29  collection_recovery_fee     532428 non-null  float64\n",
      " 30  collections_12_mths_ex_med  532333 non-null  float64\n",
      " 31  application_type            532428 non-null  int64  \n",
      " 32  last_week_pay               521814 non-null  float64\n",
      " 33  acc_now_delinq              532412 non-null  float64\n",
      " 34  tot_coll_amt                490424 non-null  float64\n",
      " 35  tot_cur_bal                 490424 non-null  float64\n",
      " 36  total_rev_hi_lim            490424 non-null  float64\n",
      " 37  loan_status                 532428 non-null  int64  \n",
      "dtypes: float64(23), int64(15)\n",
      "memory usage: 154.4 MB\n"
     ]
    }
   ],
   "source": [
    "df_train.info()"
   ]
  },
  {
   "cell_type": "code",
   "execution_count": 26,
   "metadata": {},
   "outputs": [
    {
     "name": "stdout",
     "output_type": "stream",
     "text": [
      "<class 'pandas.core.frame.DataFrame'>\n",
      "RangeIndex: 354951 entries, 0 to 354950\n",
      "Data columns (total 37 columns):\n",
      " #   Column                      Non-Null Count   Dtype  \n",
      "---  ------                      --------------   -----  \n",
      " 0   member_id                   354951 non-null  int64  \n",
      " 1   loan_amnt                   354951 non-null  int64  \n",
      " 2   funded_amnt                 354951 non-null  int64  \n",
      " 3   funded_amnt_inv             354951 non-null  float64\n",
      " 4   term                        354951 non-null  int64  \n",
      " 5   int_rate                    354951 non-null  float64\n",
      " 6   grade                       354951 non-null  int64  \n",
      " 7   sub_grade                   354951 non-null  int64  \n",
      " 8   emp_length                  337017 non-null  float64\n",
      " 9   home_ownership              354951 non-null  int64  \n",
      " 10  annual_inc                  354950 non-null  float64\n",
      " 11  verification_status         354951 non-null  int64  \n",
      " 12  pymnt_plan                  354951 non-null  int64  \n",
      " 13  purpose                     354951 non-null  int64  \n",
      " 14  zip_code                    354951 non-null  int64  \n",
      " 15  addr_state                  354951 non-null  int64  \n",
      " 16  dti                         354951 non-null  float64\n",
      " 17  delinq_2yrs                 354938 non-null  float64\n",
      " 18  inq_last_6mths              354938 non-null  float64\n",
      " 19  mths_since_last_delinq      173193 non-null  float64\n",
      " 20  open_acc                    354938 non-null  float64\n",
      " 21  pub_rec                     354938 non-null  float64\n",
      " 22  revol_bal                   354951 non-null  int64  \n",
      " 23  revol_util                  354736 non-null  float64\n",
      " 24  total_acc                   354938 non-null  float64\n",
      " 25  initial_list_status         354951 non-null  int64  \n",
      " 26  total_rec_int               354951 non-null  float64\n",
      " 27  total_rec_late_fee          354951 non-null  float64\n",
      " 28  recoveries                  354951 non-null  float64\n",
      " 29  collection_recovery_fee     354951 non-null  float64\n",
      " 30  collections_12_mths_ex_med  354901 non-null  float64\n",
      " 31  application_type            354951 non-null  int64  \n",
      " 32  last_week_pay               347906 non-null  float64\n",
      " 33  acc_now_delinq              354938 non-null  float64\n",
      " 34  tot_coll_amt                326679 non-null  float64\n",
      " 35  tot_cur_bal                 326679 non-null  float64\n",
      " 36  total_rev_hi_lim            326679 non-null  float64\n",
      "dtypes: float64(22), int64(15)\n",
      "memory usage: 100.2 MB\n"
     ]
    }
   ],
   "source": [
    "df_test.info()"
   ]
  },
  {
   "cell_type": "code",
   "execution_count": null,
   "metadata": {},
   "outputs": [],
   "source": []
  },
  {
   "cell_type": "code",
   "execution_count": 27,
   "metadata": {},
   "outputs": [
    {
     "data": {
      "text/plain": [
       "member_id                          0\n",
       "loan_amnt                          0\n",
       "funded_amnt                        0\n",
       "funded_amnt_inv                    0\n",
       "term                               0\n",
       "int_rate                           0\n",
       "grade                              0\n",
       "sub_grade                          0\n",
       "emp_length                     26891\n",
       "home_ownership                     0\n",
       "annual_inc                         3\n",
       "verification_status                0\n",
       "pymnt_plan                         0\n",
       "purpose                            0\n",
       "zip_code                           0\n",
       "addr_state                         0\n",
       "dti                                0\n",
       "delinq_2yrs                       16\n",
       "inq_last_6mths                    16\n",
       "mths_since_last_delinq        272554\n",
       "open_acc                          16\n",
       "pub_rec                           16\n",
       "revol_bal                          0\n",
       "revol_util                       287\n",
       "total_acc                         16\n",
       "initial_list_status                0\n",
       "total_rec_int                      0\n",
       "total_rec_late_fee                 0\n",
       "recoveries                         0\n",
       "collection_recovery_fee            0\n",
       "collections_12_mths_ex_med        95\n",
       "application_type                   0\n",
       "last_week_pay                  10614\n",
       "acc_now_delinq                    16\n",
       "tot_coll_amt                   42004\n",
       "tot_cur_bal                    42004\n",
       "total_rev_hi_lim               42004\n",
       "loan_status                        0\n",
       "dtype: int64"
      ]
     },
     "execution_count": 27,
     "metadata": {},
     "output_type": "execute_result"
    }
   ],
   "source": [
    "df_train.isna().sum()"
   ]
  },
  {
   "cell_type": "code",
   "execution_count": 28,
   "metadata": {},
   "outputs": [
    {
     "data": {
      "text/plain": [
       "member_id                          0\n",
       "loan_amnt                          0\n",
       "funded_amnt                        0\n",
       "funded_amnt_inv                    0\n",
       "term                               0\n",
       "int_rate                           0\n",
       "grade                              0\n",
       "sub_grade                          0\n",
       "emp_length                     17934\n",
       "home_ownership                     0\n",
       "annual_inc                         1\n",
       "verification_status                0\n",
       "pymnt_plan                         0\n",
       "purpose                            0\n",
       "zip_code                           0\n",
       "addr_state                         0\n",
       "dti                                0\n",
       "delinq_2yrs                       13\n",
       "inq_last_6mths                    13\n",
       "mths_since_last_delinq        181758\n",
       "open_acc                          13\n",
       "pub_rec                           13\n",
       "revol_bal                          0\n",
       "revol_util                       215\n",
       "total_acc                         13\n",
       "initial_list_status                0\n",
       "total_rec_int                      0\n",
       "total_rec_late_fee                 0\n",
       "recoveries                         0\n",
       "collection_recovery_fee            0\n",
       "collections_12_mths_ex_med        50\n",
       "application_type                   0\n",
       "last_week_pay                   7045\n",
       "acc_now_delinq                    13\n",
       "tot_coll_amt                   28272\n",
       "tot_cur_bal                    28272\n",
       "total_rev_hi_lim               28272\n",
       "dtype: int64"
      ]
     },
     "execution_count": 28,
     "metadata": {},
     "output_type": "execute_result"
    }
   ],
   "source": [
    "df_test.isna().sum()"
   ]
  },
  {
   "cell_type": "raw",
   "metadata": {},
   "source": []
  },
  {
   "cell_type": "code",
   "execution_count": null,
   "metadata": {},
   "outputs": [],
   "source": []
  },
  {
   "cell_type": "code",
   "execution_count": 29,
   "metadata": {},
   "outputs": [],
   "source": [
    "#Fill na"
   ]
  },
  {
   "cell_type": "code",
   "execution_count": 30,
   "metadata": {},
   "outputs": [],
   "source": [
    "emp_length_mean = df_train['emp_length'].mean(skipna = True)\n",
    "df_train['emp_length'].fillna(emp_length_mean,inplace = True)    \n",
    "emp_length_mean = df_test['emp_length'].mean(skipna = True)\n",
    "df_test['emp_length'].fillna(emp_length_mean,inplace = True)                    "
   ]
  },
  {
   "cell_type": "code",
   "execution_count": null,
   "metadata": {},
   "outputs": [],
   "source": []
  },
  {
   "cell_type": "code",
   "execution_count": 31,
   "metadata": {},
   "outputs": [],
   "source": [
    "delinq_2yrs_mean = df_train['delinq_2yrs'].mean(skipna = True)\n",
    "df_train['delinq_2yrs'].fillna(delinq_2yrs_mean,inplace = True)    \n",
    "delinq_2yrs_mean = df_test['delinq_2yrs'].mean(skipna = True)\n",
    "df_test['delinq_2yrs'].fillna(delinq_2yrs_mean,inplace = True)    \n"
   ]
  },
  {
   "cell_type": "code",
   "execution_count": null,
   "metadata": {},
   "outputs": [],
   "source": []
  },
  {
   "cell_type": "code",
   "execution_count": 32,
   "metadata": {},
   "outputs": [],
   "source": [
    "inq_last_6mths_mean = df_train['inq_last_6mths'].mean(skipna = True)\n",
    "df_train['inq_last_6mths'].fillna(inq_last_6mths_mean,inplace = True)    \n",
    "\n",
    "inq_last_6mths_mean = df_test['inq_last_6mths'].mean(skipna = True)\n",
    "df_test['inq_last_6mths'].fillna(inq_last_6mths_mean,inplace = True)    "
   ]
  },
  {
   "cell_type": "code",
   "execution_count": null,
   "metadata": {},
   "outputs": [],
   "source": []
  },
  {
   "cell_type": "code",
   "execution_count": 33,
   "metadata": {},
   "outputs": [],
   "source": [
    "mths_since_last_delinq_mean = df_train['mths_since_last_delinq'].mean(skipna = True)\n",
    "df_train['mths_since_last_delinq'].fillna(mths_since_last_delinq_mean,inplace = True)    \n",
    "\n",
    "mths_since_last_delinq_mean = df_test['mths_since_last_delinq'].mean(skipna = True)\n",
    "df_test['mths_since_last_delinq'].fillna(mths_since_last_delinq_mean,inplace = True)    "
   ]
  },
  {
   "cell_type": "code",
   "execution_count": null,
   "metadata": {},
   "outputs": [],
   "source": []
  },
  {
   "cell_type": "code",
   "execution_count": 34,
   "metadata": {},
   "outputs": [],
   "source": [
    "mths_since_last_delinq_mean = df_train['mths_since_last_delinq'].mean(skipna = True)\n",
    "df_train['mths_since_last_delinq'].fillna(mths_since_last_delinq_mean,inplace = True)    \n",
    "\n",
    "mths_since_last_delinq_mean = df_test['mths_since_last_delinq'].mean(skipna = True)\n",
    "df_test['mths_since_last_delinq'].fillna(mths_since_last_delinq_mean,inplace = True)    "
   ]
  },
  {
   "cell_type": "code",
   "execution_count": null,
   "metadata": {},
   "outputs": [],
   "source": []
  },
  {
   "cell_type": "code",
   "execution_count": 35,
   "metadata": {},
   "outputs": [],
   "source": [
    "open_acc_mean = df_train['open_acc'].mean(skipna = True)\n",
    "df_train['open_acc'].fillna(open_acc_mean,inplace = True)    \n",
    "\n",
    "open_acc_mean = df_test['open_acc'].mean(skipna = True)\n",
    "df_test['open_acc'].fillna(open_acc_mean,inplace = True)    "
   ]
  },
  {
   "cell_type": "code",
   "execution_count": null,
   "metadata": {},
   "outputs": [],
   "source": []
  },
  {
   "cell_type": "code",
   "execution_count": 36,
   "metadata": {},
   "outputs": [],
   "source": [
    "pub_rec_mean = df_train['pub_rec'].mean(skipna = True)\n",
    "df_train['pub_rec'].fillna(pub_rec_mean,inplace = True)    \n",
    "pub_rec_mean = df_test['pub_rec'].mean(skipna = True)\n",
    "df_test['pub_rec'].fillna(pub_rec_mean,inplace = True)    "
   ]
  },
  {
   "cell_type": "code",
   "execution_count": null,
   "metadata": {},
   "outputs": [],
   "source": []
  },
  {
   "cell_type": "code",
   "execution_count": 37,
   "metadata": {},
   "outputs": [],
   "source": [
    "revol_util_mean = df_train['revol_util'].mean(skipna = True)\n",
    "df_train['revol_util'].fillna(revol_util_mean,inplace = True) \n",
    "revol_util_mean = df_test['revol_util'].mean(skipna = True)\n",
    "df_test['revol_util'].fillna(revol_util_mean,inplace = True)    "
   ]
  },
  {
   "cell_type": "code",
   "execution_count": null,
   "metadata": {},
   "outputs": [],
   "source": []
  },
  {
   "cell_type": "code",
   "execution_count": 38,
   "metadata": {},
   "outputs": [],
   "source": [
    "total_acc_mean = df_train['total_acc'].mean(skipna = True)\n",
    "df_train['total_acc'].fillna(total_acc_mean,inplace = True)   \n",
    "\n",
    "total_acc_mean = df_test['total_acc'].mean(skipna = True)\n",
    "df_test['total_acc'].fillna(total_acc_mean,inplace = True)    \n",
    "\n"
   ]
  },
  {
   "cell_type": "code",
   "execution_count": null,
   "metadata": {},
   "outputs": [],
   "source": []
  },
  {
   "cell_type": "code",
   "execution_count": 39,
   "metadata": {},
   "outputs": [],
   "source": [
    "collections_12_mths_ex_med_mean = df_train['collections_12_mths_ex_med'].mean(skipna = True)\n",
    "df_train['collections_12_mths_ex_med'].fillna(collections_12_mths_ex_med_mean,inplace = True)    \n",
    "\n",
    "collections_12_mths_ex_med_mean = df_test['collections_12_mths_ex_med'].mean(skipna = True)\n",
    "df_test['collections_12_mths_ex_med'].fillna(collections_12_mths_ex_med_mean,inplace = True)    \n"
   ]
  },
  {
   "cell_type": "code",
   "execution_count": null,
   "metadata": {},
   "outputs": [],
   "source": []
  },
  {
   "cell_type": "code",
   "execution_count": 40,
   "metadata": {},
   "outputs": [],
   "source": [
    "last_week_pay_mean = df_train['last_week_pay'].mean(skipna = True)\n",
    "df_train['last_week_pay'].fillna(last_week_pay_mean,inplace = True)    \n",
    "\n",
    "last_week_pay_mean = df_test['last_week_pay'].mean(skipna = True)\n",
    "df_test['last_week_pay'].fillna(last_week_pay_mean,inplace = True)    \n"
   ]
  },
  {
   "cell_type": "code",
   "execution_count": null,
   "metadata": {},
   "outputs": [],
   "source": []
  },
  {
   "cell_type": "code",
   "execution_count": 41,
   "metadata": {},
   "outputs": [],
   "source": [
    "acc_now_delinq_mean = df_train['acc_now_delinq'].mean(skipna = True)\n",
    "df_train['acc_now_delinq'].fillna(acc_now_delinq_mean,inplace = True)    \n",
    "\n",
    "acc_now_delinq_mean = df_test['acc_now_delinq'].mean(skipna = True)\n",
    "df_test['acc_now_delinq'].fillna(acc_now_delinq_mean,inplace = True)    \n",
    "\n"
   ]
  },
  {
   "cell_type": "code",
   "execution_count": null,
   "metadata": {},
   "outputs": [],
   "source": []
  },
  {
   "cell_type": "code",
   "execution_count": 42,
   "metadata": {},
   "outputs": [],
   "source": [
    "tot_coll_amt_mean = df_train['tot_coll_amt'].mean(skipna = True)\n",
    "df_train['tot_coll_amt'].fillna(tot_coll_amt_mean,inplace = True)    \n",
    "\n",
    "tot_coll_amt_mean = df_test['tot_coll_amt'].mean(skipna = True)\n",
    "df_test['tot_coll_amt'].fillna(tot_coll_amt_mean,inplace = True)    \n"
   ]
  },
  {
   "cell_type": "code",
   "execution_count": null,
   "metadata": {},
   "outputs": [],
   "source": []
  },
  {
   "cell_type": "code",
   "execution_count": 43,
   "metadata": {},
   "outputs": [],
   "source": [
    "tot_cur_bal_mean = df_train['tot_cur_bal'].mean(skipna = True)\n",
    "df_train['tot_cur_bal'].fillna(tot_cur_bal_mean,inplace = True)    \n",
    "\n",
    "tot_cur_bal_mean = df_test['tot_cur_bal'].mean(skipna = True)\n",
    "df_test['tot_cur_bal'].fillna(tot_cur_bal_mean,inplace = True)    \n"
   ]
  },
  {
   "cell_type": "code",
   "execution_count": null,
   "metadata": {},
   "outputs": [],
   "source": []
  },
  {
   "cell_type": "code",
   "execution_count": 44,
   "metadata": {},
   "outputs": [],
   "source": [
    "total_rev_hi_lim_mean = df_train['total_rev_hi_lim'].mean(skipna = True)\n",
    "df_train['total_rev_hi_lim'].fillna(total_rev_hi_lim_mean,inplace = True)    \n",
    "\n",
    "total_rev_hi_lim_mean = df_test['total_rev_hi_lim'].mean(skipna = True)\n",
    "df_test['total_rev_hi_lim'].fillna(total_rev_hi_lim_mean,inplace = True)    \n"
   ]
  },
  {
   "cell_type": "code",
   "execution_count": null,
   "metadata": {},
   "outputs": [],
   "source": [
    "                    "
   ]
  },
  {
   "cell_type": "code",
   "execution_count": 45,
   "metadata": {},
   "outputs": [],
   "source": [
    "annual_inc_mean = df_train['annual_inc'].mean(skipna = True)\n",
    "df_train['annual_inc'].fillna(annual_inc_mean,inplace = True)    \n",
    "\n",
    "annual_inc_mean = df_test['annual_inc'].mean(skipna = True)\n",
    "df_test['annual_inc'].fillna(annual_inc_mean,inplace = True)    \n"
   ]
  },
  {
   "cell_type": "code",
   "execution_count": null,
   "metadata": {},
   "outputs": [],
   "source": []
  },
  {
   "cell_type": "code",
   "execution_count": 46,
   "metadata": {},
   "outputs": [],
   "source": [
    "#loan_to_income\n",
    "df_train['loan_to_income'] = df_train['annual_inc']/df_train['funded_amnt_inv']\n",
    "\n",
    "df_test['loan_to_income'] = df_test['annual_inc']/df_test['funded_amnt_inv']"
   ]
  },
  {
   "cell_type": "code",
   "execution_count": null,
   "metadata": {},
   "outputs": [],
   "source": []
  },
  {
   "cell_type": "code",
   "execution_count": 47,
   "metadata": {},
   "outputs": [],
   "source": [
    " #Total number of  credit account\n",
    "\n",
    "df_train['credit_account'] = df_train['total_acc'] - df_train['open_acc']\n",
    "#print(df_train['credit_account'])\n",
    "df_test['credit_account'] = df_test['total_acc'] - df_test['open_acc']"
   ]
  },
  {
   "cell_type": "code",
   "execution_count": null,
   "metadata": {},
   "outputs": [],
   "source": []
  },
  {
   "cell_type": "code",
   "execution_count": 48,
   "metadata": {},
   "outputs": [
    {
     "name": "stdout",
     "output_type": "stream",
     "text": [
      "Index(['member_id', 'loan_amnt', 'funded_amnt', 'funded_amnt_inv', 'term',\n",
      "       'int_rate', 'grade', 'sub_grade', 'emp_length', 'home_ownership',\n",
      "       'annual_inc', 'verification_status', 'pymnt_plan', 'purpose',\n",
      "       'zip_code', 'addr_state', 'dti', 'delinq_2yrs', 'inq_last_6mths',\n",
      "       'mths_since_last_delinq', 'open_acc', 'pub_rec', 'revol_bal',\n",
      "       'revol_util', 'total_acc', 'initial_list_status', 'total_rec_int',\n",
      "       'total_rec_late_fee', 'recoveries', 'collection_recovery_fee',\n",
      "       'collections_12_mths_ex_med', 'application_type', 'last_week_pay',\n",
      "       'acc_now_delinq', 'tot_coll_amt', 'tot_cur_bal', 'total_rev_hi_lim',\n",
      "       'loan_status', 'loan_to_income', 'credit_account'],\n",
      "      dtype='object')\n"
     ]
    }
   ],
   "source": [
    "print(df_train.columns)"
   ]
  },
  {
   "cell_type": "code",
   "execution_count": null,
   "metadata": {},
   "outputs": [],
   "source": []
  },
  {
   "cell_type": "code",
   "execution_count": 49,
   "metadata": {},
   "outputs": [],
   "source": [
    "import numpy as np"
   ]
  },
  {
   "cell_type": "code",
   "execution_count": 50,
   "metadata": {},
   "outputs": [
    {
     "name": "stdout",
     "output_type": "stream",
     "text": [
      "Empty DataFrame\n",
      "Columns: [member_id, loan_amnt, funded_amnt, funded_amnt_inv, term, int_rate, grade, sub_grade, emp_length, home_ownership, annual_inc, verification_status, pymnt_plan, purpose, zip_code, addr_state, dti, delinq_2yrs, inq_last_6mths, mths_since_last_delinq, open_acc, pub_rec, revol_bal, revol_util, total_acc, initial_list_status, total_rec_int, total_rec_late_fee, recoveries, collection_recovery_fee, collections_12_mths_ex_med, application_type, last_week_pay, acc_now_delinq, tot_coll_amt, tot_cur_bal, total_rev_hi_lim, loan_status, loan_to_income, credit_account]\n",
      "Index: []\n",
      "\n",
      "[0 rows x 40 columns]\n"
     ]
    }
   ],
   "source": [
    "print(df_train[~df_train.applymap(np.isreal).all(1)])"
   ]
  },
  {
   "cell_type": "code",
   "execution_count": null,
   "metadata": {},
   "outputs": [],
   "source": []
  },
  {
   "cell_type": "code",
   "execution_count": 51,
   "metadata": {},
   "outputs": [
    {
     "name": "stdout",
     "output_type": "stream",
     "text": [
      "Empty DataFrame\n",
      "Columns: [member_id, loan_amnt, funded_amnt, funded_amnt_inv, term, int_rate, grade, sub_grade, emp_length, home_ownership, annual_inc, verification_status, pymnt_plan, purpose, zip_code, addr_state, dti, delinq_2yrs, inq_last_6mths, mths_since_last_delinq, open_acc, pub_rec, revol_bal, revol_util, total_acc, initial_list_status, total_rec_int, total_rec_late_fee, recoveries, collection_recovery_fee, collections_12_mths_ex_med, application_type, last_week_pay, acc_now_delinq, tot_coll_amt, tot_cur_bal, total_rev_hi_lim, loan_to_income, credit_account]\n",
      "Index: []\n",
      "\n",
      "[0 rows x 39 columns]\n"
     ]
    }
   ],
   "source": [
    "print(df_test[~df_test.applymap(np.isreal).all(1)])"
   ]
  },
  {
   "cell_type": "code",
   "execution_count": null,
   "metadata": {},
   "outputs": [],
   "source": []
  },
  {
   "cell_type": "code",
   "execution_count": 52,
   "metadata": {},
   "outputs": [],
   "source": [
    "# df_train.to_csv(\"df_train.csv\",index = None)\n",
    "# df_test.to_csv(\"df_test.csv\",index = None)\n"
   ]
  },
  {
   "cell_type": "code",
   "execution_count": null,
   "metadata": {},
   "outputs": [],
   "source": []
  },
  {
   "cell_type": "code",
   "execution_count": 53,
   "metadata": {},
   "outputs": [],
   "source": [
    "test_member_id = pd.DataFrame(df_test['member_id'])"
   ]
  },
  {
   "cell_type": "code",
   "execution_count": null,
   "metadata": {},
   "outputs": [],
   "source": []
  },
  {
   "cell_type": "code",
   "execution_count": 54,
   "metadata": {},
   "outputs": [],
   "source": [
    "train_target = pd.DataFrame(df_train['loan_status'])"
   ]
  },
  {
   "cell_type": "code",
   "execution_count": null,
   "metadata": {},
   "outputs": [],
   "source": []
  },
  {
   "cell_type": "code",
   "execution_count": 55,
   "metadata": {},
   "outputs": [
    {
     "name": "stdout",
     "output_type": "stream",
     "text": [
      "['member_id', 'loan_amnt', 'funded_amnt', 'funded_amnt_inv', 'term', 'int_rate', 'grade', 'sub_grade', 'emp_length', 'home_ownership', 'annual_inc', 'verification_status', 'pymnt_plan', 'purpose', 'zip_code', 'addr_state', 'dti', 'delinq_2yrs', 'inq_last_6mths', 'mths_since_last_delinq', 'open_acc', 'pub_rec', 'revol_bal', 'revol_util', 'total_acc', 'initial_list_status', 'total_rec_int', 'total_rec_late_fee', 'recoveries', 'collection_recovery_fee', 'collections_12_mths_ex_med', 'application_type', 'last_week_pay', 'acc_now_delinq', 'tot_coll_amt', 'tot_cur_bal', 'total_rev_hi_lim', 'loan_status', 'loan_to_income', 'credit_account']\n",
      "['member_id', 'loan_amnt', 'funded_amnt', 'funded_amnt_inv', 'term', 'int_rate', 'grade', 'sub_grade', 'emp_length', 'home_ownership', 'annual_inc', 'verification_status', 'pymnt_plan', 'purpose', 'zip_code', 'addr_state', 'dti', 'delinq_2yrs', 'inq_last_6mths', 'mths_since_last_delinq', 'open_acc', 'pub_rec', 'revol_bal', 'revol_util', 'total_acc', 'initial_list_status', 'total_rec_int', 'total_rec_late_fee', 'recoveries', 'collection_recovery_fee', 'collections_12_mths_ex_med', 'application_type', 'last_week_pay', 'acc_now_delinq', 'tot_coll_amt', 'tot_cur_bal', 'total_rev_hi_lim', 'loan_to_income', 'credit_account']\n"
     ]
    },
    {
     "data": {
      "text/plain": [
       "['loan_amnt',\n",
       " 'funded_amnt',\n",
       " 'funded_amnt_inv',\n",
       " 'term',\n",
       " 'int_rate',\n",
       " 'grade',\n",
       " 'sub_grade',\n",
       " 'emp_length',\n",
       " 'home_ownership',\n",
       " 'annual_inc',\n",
       " 'verification_status',\n",
       " 'pymnt_plan',\n",
       " 'purpose',\n",
       " 'zip_code',\n",
       " 'addr_state',\n",
       " 'dti',\n",
       " 'delinq_2yrs',\n",
       " 'inq_last_6mths',\n",
       " 'mths_since_last_delinq',\n",
       " 'open_acc',\n",
       " 'pub_rec',\n",
       " 'revol_bal',\n",
       " 'revol_util',\n",
       " 'total_acc',\n",
       " 'initial_list_status',\n",
       " 'total_rec_int',\n",
       " 'total_rec_late_fee',\n",
       " 'recoveries',\n",
       " 'collection_recovery_fee',\n",
       " 'collections_12_mths_ex_med',\n",
       " 'application_type',\n",
       " 'last_week_pay',\n",
       " 'acc_now_delinq',\n",
       " 'tot_coll_amt',\n",
       " 'tot_cur_bal',\n",
       " 'total_rev_hi_lim',\n",
       " 'loan_to_income',\n",
       " 'credit_account']"
      ]
     },
     "execution_count": 55,
     "metadata": {},
     "output_type": "execute_result"
    }
   ],
   "source": [
    "cols = list(df_train.columns)\n",
    "print(cols)\n",
    "cols.remove(\"loan_status\")\n",
    "print(cols)\n",
    "cols.remove(\"member_id\")\n",
    "cols"
   ]
  },
  {
   "cell_type": "code",
   "execution_count": null,
   "metadata": {},
   "outputs": [],
   "source": []
  },
  {
   "cell_type": "code",
   "execution_count": 56,
   "metadata": {},
   "outputs": [
    {
     "name": "stdout",
     "output_type": "stream",
     "text": [
      "(532428, 38)\n"
     ]
    }
   ],
   "source": [
    "finalTrain = df_train[cols]\n",
    "finalTest = df_test[cols]\n",
    "print(finalTrain.shape)"
   ]
  },
  {
   "cell_type": "code",
   "execution_count": null,
   "metadata": {},
   "outputs": [],
   "source": []
  },
  {
   "cell_type": "code",
   "execution_count": 57,
   "metadata": {},
   "outputs": [],
   "source": [
    "from sklearn.model_selection import train_test_split\n",
    "import numpy as np\n",
    "# Split train and cross validation sets\n",
    "X_train, X_test, y_train, y_test = train_test_split(np.array(finalTrain), np.array(train_target), test_size=0.30)\n",
    "eval_set=[(X_test, y_test)]"
   ]
  },
  {
   "cell_type": "code",
   "execution_count": null,
   "metadata": {},
   "outputs": [],
   "source": []
  },
  {
   "cell_type": "code",
   "execution_count": 58,
   "metadata": {},
   "outputs": [
    {
     "name": "stdout",
     "output_type": "stream",
     "text": [
      "(372699, 38)\n",
      "(159729, 38)\n",
      "(372699, 1)\n",
      "(159729, 1)\n",
      "(array([], dtype=int64), array([], dtype=int64))\n",
      "(array([], dtype=int64), array([], dtype=int64))\n",
      "(array([], dtype=int64), array([], dtype=int64))\n",
      "(array([], dtype=int64), array([], dtype=int64))\n"
     ]
    },
    {
     "data": {
      "text/plain": [
       "array([[0],\n",
       "       [0],\n",
       "       [1],\n",
       "       ...,\n",
       "       [1],\n",
       "       [0],\n",
       "       [0]], dtype=int64)"
      ]
     },
     "execution_count": 58,
     "metadata": {},
     "output_type": "execute_result"
    }
   ],
   "source": [
    "print(X_train.shape)\n",
    "print(X_test.shape)\n",
    "print(y_train.shape)\n",
    "print(y_test.shape)\n",
    "np.isnan(X_train)\n",
    "print(np.where(np.isnan(X_train)))\n",
    "np.nan_to_num(X_train)\n",
    "\n",
    "\n",
    "np.isnan(X_test)\n",
    "print(np.where(np.isnan(X_test)))\n",
    "np.nan_to_num(X_test)\n",
    "\n",
    "\n",
    "np.isnan(y_train)\n",
    "print((np.where(np.isnan(y_train))))\n",
    "np.nan_to_num(y_train)\n",
    "\n",
    "np.isnan(y_test)\n",
    "print((np.where(np.isnan(y_test))))\n",
    "np.nan_to_num(y_test)\n"
   ]
  },
  {
   "cell_type": "code",
   "execution_count": null,
   "metadata": {},
   "outputs": [],
   "source": []
  },
  {
   "cell_type": "code",
   "execution_count": 59,
   "metadata": {},
   "outputs": [
    {
     "data": {
      "text/plain": [
       "(372699, 38)"
      ]
     },
     "execution_count": 59,
     "metadata": {},
     "output_type": "execute_result"
    }
   ],
   "source": [
    "X_train.shape"
   ]
  },
  {
   "cell_type": "code",
   "execution_count": 60,
   "metadata": {},
   "outputs": [
    {
     "data": {
      "text/plain": [
       "(159729, 38)"
      ]
     },
     "execution_count": 60,
     "metadata": {},
     "output_type": "execute_result"
    }
   ],
   "source": [
    "X_test.shape"
   ]
  },
  {
   "cell_type": "code",
   "execution_count": null,
   "metadata": {},
   "outputs": [],
   "source": []
  },
  {
   "cell_type": "code",
   "execution_count": 61,
   "metadata": {},
   "outputs": [],
   "source": [
    "from sklearn.model_selection import train_test_split\n",
    "import numpy as np\n",
    "# Split train and cross validation sets\n",
    "X_train, X_test, y_train, y_test = train_test_split(np.array(finalTrain), np.array(train_target), test_size=0.30)\n",
    "eval_set=[(X_test, y_test)]"
   ]
  },
  {
   "cell_type": "code",
   "execution_count": null,
   "metadata": {},
   "outputs": [],
   "source": []
  },
  {
   "cell_type": "code",
   "execution_count": 62,
   "metadata": {},
   "outputs": [],
   "source": [
    "import numpy as np\n",
    "import xgboost\n",
    "from sklearn.metrics import accuracy_score\n",
    "from sklearn.metrics import auc\n",
    "from sklearn.metrics import roc_auc_score\n"
   ]
  },
  {
   "cell_type": "code",
   "execution_count": null,
   "metadata": {},
   "outputs": [],
   "source": []
  },
  {
   "cell_type": "code",
   "execution_count": 63,
   "metadata": {},
   "outputs": [
    {
     "name": "stdout",
     "output_type": "stream",
     "text": [
      "Initializing xgboost.sklearn.XGBClassifier and starting training...\n"
     ]
    },
    {
     "name": "stderr",
     "output_type": "stream",
     "text": [
      "C:\\Users\\sparekh\\Anaconda3\\lib\\site-packages\\sklearn\\utils\\validation.py:73: DataConversionWarning: A column-vector y was passed when a 1d array was expected. Please change the shape of y to (n_samples, ), for example using ravel().\n",
      "  return f(**kwargs)\n"
     ]
    },
    {
     "name": "stdout",
     "output_type": "stream",
     "text": [
      "[0]\tvalidation_0-auc:0.88640\n",
      "Will train until validation_0-auc hasn't improved in 20 rounds.\n",
      "[1]\tvalidation_0-auc:0.89292\n",
      "[2]\tvalidation_0-auc:0.89580\n",
      "[3]\tvalidation_0-auc:0.89965\n",
      "[4]\tvalidation_0-auc:0.90333\n",
      "[5]\tvalidation_0-auc:0.90432\n",
      "[6]\tvalidation_0-auc:0.90647\n",
      "[7]\tvalidation_0-auc:0.90703\n",
      "[8]\tvalidation_0-auc:0.90915\n",
      "[9]\tvalidation_0-auc:0.91043\n",
      "[10]\tvalidation_0-auc:0.91141\n",
      "[11]\tvalidation_0-auc:0.91305\n",
      "[12]\tvalidation_0-auc:0.91598\n",
      "[13]\tvalidation_0-auc:0.91775\n",
      "[14]\tvalidation_0-auc:0.91882\n",
      "[15]\tvalidation_0-auc:0.92075\n",
      "[16]\tvalidation_0-auc:0.92127\n",
      "[17]\tvalidation_0-auc:0.92190\n",
      "[18]\tvalidation_0-auc:0.92234\n",
      "[19]\tvalidation_0-auc:0.92256\n",
      "[20]\tvalidation_0-auc:0.92270\n",
      "[21]\tvalidation_0-auc:0.92368\n",
      "[22]\tvalidation_0-auc:0.92392\n",
      "[23]\tvalidation_0-auc:0.92410\n",
      "[24]\tvalidation_0-auc:0.92434\n",
      "[25]\tvalidation_0-auc:0.92449\n",
      "[26]\tvalidation_0-auc:0.92469\n",
      "[27]\tvalidation_0-auc:0.92484\n",
      "[28]\tvalidation_0-auc:0.92508\n",
      "[29]\tvalidation_0-auc:0.92515\n",
      "[30]\tvalidation_0-auc:0.92546\n",
      "[31]\tvalidation_0-auc:0.92556\n",
      "[32]\tvalidation_0-auc:0.92561\n",
      "[33]\tvalidation_0-auc:0.92598\n",
      "[34]\tvalidation_0-auc:0.92632\n",
      "[35]\tvalidation_0-auc:0.92643\n",
      "[36]\tvalidation_0-auc:0.92680\n",
      "[37]\tvalidation_0-auc:0.92714\n",
      "[38]\tvalidation_0-auc:0.92734\n",
      "[39]\tvalidation_0-auc:0.92797\n",
      "[40]\tvalidation_0-auc:0.92843\n",
      "[41]\tvalidation_0-auc:0.92873\n",
      "[42]\tvalidation_0-auc:0.92903\n",
      "[43]\tvalidation_0-auc:0.92923\n",
      "[44]\tvalidation_0-auc:0.92938\n",
      "[45]\tvalidation_0-auc:0.92949\n",
      "[46]\tvalidation_0-auc:0.92955\n",
      "[47]\tvalidation_0-auc:0.92968\n",
      "[48]\tvalidation_0-auc:0.92995\n",
      "[49]\tvalidation_0-auc:0.93037\n",
      "[50]\tvalidation_0-auc:0.93063\n",
      "[51]\tvalidation_0-auc:0.93072\n",
      "[52]\tvalidation_0-auc:0.93092\n",
      "[53]\tvalidation_0-auc:0.93104\n",
      "[54]\tvalidation_0-auc:0.93116\n",
      "[55]\tvalidation_0-auc:0.93127\n",
      "[56]\tvalidation_0-auc:0.93136\n",
      "[57]\tvalidation_0-auc:0.93138\n",
      "[58]\tvalidation_0-auc:0.93152\n",
      "[59]\tvalidation_0-auc:0.93163\n",
      "[60]\tvalidation_0-auc:0.93175\n",
      "[61]\tvalidation_0-auc:0.93222\n",
      "[62]\tvalidation_0-auc:0.93242\n",
      "[63]\tvalidation_0-auc:0.93265\n",
      "[64]\tvalidation_0-auc:0.93312\n",
      "[65]\tvalidation_0-auc:0.93322\n",
      "[66]\tvalidation_0-auc:0.93336\n",
      "[67]\tvalidation_0-auc:0.93353\n",
      "[68]\tvalidation_0-auc:0.93358\n",
      "[69]\tvalidation_0-auc:0.93363\n",
      "[70]\tvalidation_0-auc:0.93405\n",
      "[71]\tvalidation_0-auc:0.93450\n",
      "[72]\tvalidation_0-auc:0.93462\n",
      "[73]\tvalidation_0-auc:0.93467\n",
      "[74]\tvalidation_0-auc:0.93487\n",
      "[75]\tvalidation_0-auc:0.93500\n",
      "[76]\tvalidation_0-auc:0.93503\n",
      "[77]\tvalidation_0-auc:0.93511\n",
      "[78]\tvalidation_0-auc:0.93520\n",
      "[79]\tvalidation_0-auc:0.93529\n",
      "[80]\tvalidation_0-auc:0.93534\n",
      "[81]\tvalidation_0-auc:0.93537\n",
      "[82]\tvalidation_0-auc:0.93550\n",
      "[83]\tvalidation_0-auc:0.93564\n",
      "[84]\tvalidation_0-auc:0.93589\n",
      "[85]\tvalidation_0-auc:0.93616\n",
      "[86]\tvalidation_0-auc:0.93643\n",
      "[87]\tvalidation_0-auc:0.93649\n",
      "[88]\tvalidation_0-auc:0.93654\n",
      "[89]\tvalidation_0-auc:0.93700\n",
      "[90]\tvalidation_0-auc:0.93707\n",
      "[91]\tvalidation_0-auc:0.93710\n",
      "[92]\tvalidation_0-auc:0.93713\n",
      "[93]\tvalidation_0-auc:0.93718\n",
      "[94]\tvalidation_0-auc:0.93740\n",
      "[95]\tvalidation_0-auc:0.93744\n",
      "[96]\tvalidation_0-auc:0.93763\n",
      "[97]\tvalidation_0-auc:0.93773\n",
      "[98]\tvalidation_0-auc:0.93776\n",
      "[99]\tvalidation_0-auc:0.93784\n",
      "[100]\tvalidation_0-auc:0.93788\n",
      "[101]\tvalidation_0-auc:0.93796\n",
      "[102]\tvalidation_0-auc:0.93801\n",
      "[103]\tvalidation_0-auc:0.93809\n",
      "[104]\tvalidation_0-auc:0.93812\n",
      "[105]\tvalidation_0-auc:0.93818\n",
      "[106]\tvalidation_0-auc:0.93820\n",
      "[107]\tvalidation_0-auc:0.93834\n",
      "[108]\tvalidation_0-auc:0.93843\n",
      "[109]\tvalidation_0-auc:0.93843\n",
      "[110]\tvalidation_0-auc:0.93852\n",
      "[111]\tvalidation_0-auc:0.93855\n",
      "[112]\tvalidation_0-auc:0.93856\n",
      "[113]\tvalidation_0-auc:0.93865\n",
      "[114]\tvalidation_0-auc:0.93879\n",
      "[115]\tvalidation_0-auc:0.93907\n",
      "[116]\tvalidation_0-auc:0.93915\n",
      "[117]\tvalidation_0-auc:0.93919\n",
      "[118]\tvalidation_0-auc:0.93922\n",
      "[119]\tvalidation_0-auc:0.93930\n",
      "[120]\tvalidation_0-auc:0.93943\n",
      "[121]\tvalidation_0-auc:0.93948\n",
      "[122]\tvalidation_0-auc:0.93954\n",
      "[123]\tvalidation_0-auc:0.93957\n",
      "[124]\tvalidation_0-auc:0.93968\n",
      "[125]\tvalidation_0-auc:0.93969\n",
      "[126]\tvalidation_0-auc:0.93973\n",
      "[127]\tvalidation_0-auc:0.93984\n",
      "[128]\tvalidation_0-auc:0.93987\n",
      "[129]\tvalidation_0-auc:0.93992\n",
      "[130]\tvalidation_0-auc:0.93999\n",
      "[131]\tvalidation_0-auc:0.94014\n",
      "[132]\tvalidation_0-auc:0.94015\n",
      "[133]\tvalidation_0-auc:0.94031\n",
      "[134]\tvalidation_0-auc:0.94034\n",
      "[135]\tvalidation_0-auc:0.94035\n",
      "[136]\tvalidation_0-auc:0.94040\n",
      "[137]\tvalidation_0-auc:0.94041\n",
      "[138]\tvalidation_0-auc:0.94056\n",
      "[139]\tvalidation_0-auc:0.94059\n",
      "[140]\tvalidation_0-auc:0.94063\n",
      "[141]\tvalidation_0-auc:0.94064\n",
      "[142]\tvalidation_0-auc:0.94076\n",
      "[143]\tvalidation_0-auc:0.94080\n",
      "[144]\tvalidation_0-auc:0.94090\n",
      "[145]\tvalidation_0-auc:0.94105\n",
      "[146]\tvalidation_0-auc:0.94114\n",
      "[147]\tvalidation_0-auc:0.94121\n",
      "[148]\tvalidation_0-auc:0.94129\n",
      "[149]\tvalidation_0-auc:0.94130\n",
      "[150]\tvalidation_0-auc:0.94145\n",
      "[151]\tvalidation_0-auc:0.94167\n",
      "[152]\tvalidation_0-auc:0.94174\n",
      "[153]\tvalidation_0-auc:0.94174\n",
      "[154]\tvalidation_0-auc:0.94181\n",
      "[155]\tvalidation_0-auc:0.94183\n",
      "[156]\tvalidation_0-auc:0.94189\n",
      "[157]\tvalidation_0-auc:0.94191\n",
      "[158]\tvalidation_0-auc:0.94213\n",
      "[159]\tvalidation_0-auc:0.94213\n",
      "[160]\tvalidation_0-auc:0.94220\n",
      "[161]\tvalidation_0-auc:0.94222\n",
      "[162]\tvalidation_0-auc:0.94226\n",
      "[163]\tvalidation_0-auc:0.94226\n",
      "[164]\tvalidation_0-auc:0.94227\n",
      "[165]\tvalidation_0-auc:0.94232\n",
      "[166]\tvalidation_0-auc:0.94233\n",
      "[167]\tvalidation_0-auc:0.94243\n",
      "[168]\tvalidation_0-auc:0.94243\n",
      "[169]\tvalidation_0-auc:0.94248\n",
      "[170]\tvalidation_0-auc:0.94249\n",
      "[171]\tvalidation_0-auc:0.94251\n",
      "[172]\tvalidation_0-auc:0.94255\n",
      "[173]\tvalidation_0-auc:0.94259\n",
      "[174]\tvalidation_0-auc:0.94277\n",
      "[175]\tvalidation_0-auc:0.94279\n",
      "[176]\tvalidation_0-auc:0.94282\n",
      "[177]\tvalidation_0-auc:0.94290\n",
      "[178]\tvalidation_0-auc:0.94297\n",
      "[179]\tvalidation_0-auc:0.94299\n",
      "[180]\tvalidation_0-auc:0.94311\n",
      "[181]\tvalidation_0-auc:0.94314\n",
      "[182]\tvalidation_0-auc:0.94317\n",
      "[183]\tvalidation_0-auc:0.94318\n",
      "[184]\tvalidation_0-auc:0.94320\n",
      "[185]\tvalidation_0-auc:0.94320\n",
      "[186]\tvalidation_0-auc:0.94325\n",
      "[187]\tvalidation_0-auc:0.94327\n",
      "[188]\tvalidation_0-auc:0.94327\n",
      "[189]\tvalidation_0-auc:0.94329\n",
      "[190]\tvalidation_0-auc:0.94333\n",
      "[191]\tvalidation_0-auc:0.94334\n",
      "[192]\tvalidation_0-auc:0.94334\n",
      "[193]\tvalidation_0-auc:0.94334\n",
      "[194]\tvalidation_0-auc:0.94334\n",
      "[195]\tvalidation_0-auc:0.94334\n",
      "[196]\tvalidation_0-auc:0.94334\n",
      "[197]\tvalidation_0-auc:0.94334\n",
      "[198]\tvalidation_0-auc:0.94334\n",
      "[199]\tvalidation_0-auc:0.94334\n",
      "Accuracy: 91.6489804607%\n",
      "ROC-AUC: 85.0075406307%\n"
     ]
    },
    {
     "ename": "NameError",
     "evalue": "name 'df_output' is not defined",
     "output_type": "error",
     "traceback": [
      "\u001b[1;31m---------------------------------------------------------------------------\u001b[0m",
      "\u001b[1;31mNameError\u001b[0m                                 Traceback (most recent call last)",
      "\u001b[1;32m<ipython-input-63-e0cd71a72356>\u001b[0m in \u001b[0;36m<module>\u001b[1;34m\u001b[0m\n\u001b[0;32m     25\u001b[0m \u001b[1;33m\u001b[0m\u001b[0m\n\u001b[0;32m     26\u001b[0m \u001b[1;33m\u001b[0m\u001b[0m\n\u001b[1;32m---> 27\u001b[1;33m \u001b[0mdf_output\u001b[0m\u001b[1;33m.\u001b[0m\u001b[0mto_csv\u001b[0m\u001b[1;33m(\u001b[0m\u001b[0msubmission_file_name\u001b[0m\u001b[1;33m+\u001b[0m \u001b[1;34m\".csv\"\u001b[0m\u001b[1;33m,\u001b[0m \u001b[0mindex\u001b[0m\u001b[1;33m=\u001b[0m\u001b[1;32mFalse\u001b[0m\u001b[1;33m)\u001b[0m\u001b[1;33m\u001b[0m\u001b[1;33m\u001b[0m\u001b[0m\n\u001b[0m",
      "\u001b[1;31mNameError\u001b[0m: name 'df_output' is not defined"
     ]
    }
   ],
   "source": [
    "print('Initializing xgboost.sklearn.XGBClassifier and starting training...')\n",
    "\n",
    "\n",
    "clf = xgboost.sklearn.XGBClassifier(\n",
    "    objective=\"binary:logistic\", \n",
    "    learning_rate=0.05, \n",
    "    seed=9616, \n",
    "    max_depth=20, \n",
    "    gamma=10, \n",
    "    n_estimators=200)\n",
    "\n",
    "clf.fit(X_train, y_train, early_stopping_rounds=20, eval_metric=\"auc\", eval_set=eval_set)\n",
    "\n",
    "\n",
    "y_pred = clf.predict(X_test)\n",
    "submission_file_name = 'Submission_'\n",
    "\n",
    "accuracy = accuracy_score(np.array(y_test).flatten(), y_pred)\n",
    "print(\"Accuracy: %.10f%%\" % (accuracy * 100.0))\n",
    "submission_file_name = submission_file_name + (\"_Accuracy_%.6f\" % (accuracy * 100)) + '_'\n",
    "\n",
    "accuracy_per_roc_auc = roc_auc_score(np.array(y_test).flatten(), y_pred)\n",
    "print(\"ROC-AUC: %.10f%%\" % (accuracy_per_roc_auc * 100))\n",
    "submission_file_name = submission_file_name + (\"_ROC-AUC_%.6f\" % (accuracy_per_roc_auc * 100))\n",
    "\n",
    "\n"
   ]
  },
  {
   "cell_type": "code",
   "execution_count": null,
   "metadata": {},
   "outputs": [],
   "source": []
  },
  {
   "cell_type": "code",
   "execution_count": 64,
   "metadata": {},
   "outputs": [
    {
     "name": "stdout",
     "output_type": "stream",
     "text": [
      "[0 0 1 ... 0 1 0]\n"
     ]
    }
   ],
   "source": [
    "print(y_pred)"
   ]
  },
  {
   "cell_type": "code",
   "execution_count": null,
   "metadata": {},
   "outputs": [],
   "source": []
  },
  {
   "cell_type": "code",
   "execution_count": 66,
   "metadata": {},
   "outputs": [
    {
     "name": "stdout",
     "output_type": "stream",
     "text": [
      "[[0.9198698  0.08013025]\n",
      " [0.88237566 0.11762436]\n",
      " [0.9359307  0.06406928]\n",
      " ...\n",
      " [0.8895128  0.11048722]\n",
      " [0.9623152  0.0376848 ]\n",
      " [0.7400668  0.25993317]]\n"
     ]
    },
    {
     "data": {
      "text/html": [
       "<div>\n",
       "<style scoped>\n",
       "    .dataframe tbody tr th:only-of-type {\n",
       "        vertical-align: middle;\n",
       "    }\n",
       "\n",
       "    .dataframe tbody tr th {\n",
       "        vertical-align: top;\n",
       "    }\n",
       "\n",
       "    .dataframe thead th {\n",
       "        text-align: right;\n",
       "    }\n",
       "</style>\n",
       "<table border=\"1\" class=\"dataframe\">\n",
       "  <thead>\n",
       "    <tr style=\"text-align: right;\">\n",
       "      <th></th>\n",
       "      <th>test_member_id</th>\n",
       "      <th>loan_status</th>\n",
       "    </tr>\n",
       "  </thead>\n",
       "  <tbody>\n",
       "    <tr>\n",
       "      <th>0</th>\n",
       "      <td>11937648</td>\n",
       "      <td>0.080130</td>\n",
       "    </tr>\n",
       "    <tr>\n",
       "      <th>1</th>\n",
       "      <td>38983318</td>\n",
       "      <td>0.117624</td>\n",
       "    </tr>\n",
       "    <tr>\n",
       "      <th>2</th>\n",
       "      <td>27999917</td>\n",
       "      <td>0.064069</td>\n",
       "    </tr>\n",
       "    <tr>\n",
       "      <th>3</th>\n",
       "      <td>61514932</td>\n",
       "      <td>0.057167</td>\n",
       "    </tr>\n",
       "    <tr>\n",
       "      <th>4</th>\n",
       "      <td>59622821</td>\n",
       "      <td>0.046457</td>\n",
       "    </tr>\n",
       "    <tr>\n",
       "      <th>...</th>\n",
       "      <td>...</td>\n",
       "      <td>...</td>\n",
       "    </tr>\n",
       "    <tr>\n",
       "      <th>354946</th>\n",
       "      <td>19145105</td>\n",
       "      <td>0.076165</td>\n",
       "    </tr>\n",
       "    <tr>\n",
       "      <th>354947</th>\n",
       "      <td>46304777</td>\n",
       "      <td>0.333027</td>\n",
       "    </tr>\n",
       "    <tr>\n",
       "      <th>354948</th>\n",
       "      <td>903745</td>\n",
       "      <td>0.110487</td>\n",
       "    </tr>\n",
       "    <tr>\n",
       "      <th>354949</th>\n",
       "      <td>53032475</td>\n",
       "      <td>0.037685</td>\n",
       "    </tr>\n",
       "    <tr>\n",
       "      <th>354950</th>\n",
       "      <td>994245</td>\n",
       "      <td>0.259933</td>\n",
       "    </tr>\n",
       "  </tbody>\n",
       "</table>\n",
       "<p>354951 rows × 2 columns</p>\n",
       "</div>"
      ],
      "text/plain": [
       "        test_member_id  loan_status\n",
       "0             11937648     0.080130\n",
       "1             38983318     0.117624\n",
       "2             27999917     0.064069\n",
       "3             61514932     0.057167\n",
       "4             59622821     0.046457\n",
       "...                ...          ...\n",
       "354946        19145105     0.076165\n",
       "354947        46304777     0.333027\n",
       "354948          903745     0.110487\n",
       "354949        53032475     0.037685\n",
       "354950          994245     0.259933\n",
       "\n",
       "[354951 rows x 2 columns]"
      ]
     },
     "execution_count": 66,
     "metadata": {},
     "output_type": "execute_result"
    }
   ],
   "source": [
    "\n",
    "df_output = pd.DataFrame()\n",
    "df_output['test_member_id'] = df_test['member_id']\n",
    "print(clf.predict_proba(np.array(finalTest)))\n",
    "\n",
    "df_output['loan_status'] = clf.predict_proba(np.array(finalTest))[:,[1]]\n",
    "\n",
    "\n",
    "df_output.to_csv(submission_file_name+ \".csv\", index=False)\n",
    "df_output.shape\n",
    "df_output.to_csv(\"submission_xgb_200.csv\", index=False)\n",
    "df_output"
   ]
  },
  {
   "cell_type": "code",
   "execution_count": null,
   "metadata": {},
   "outputs": [],
   "source": []
  },
  {
   "cell_type": "code",
   "execution_count": 67,
   "metadata": {},
   "outputs": [],
   "source": [
    "eval_set=[(X_test, y_test)]"
   ]
  },
  {
   "cell_type": "code",
   "execution_count": null,
   "metadata": {},
   "outputs": [],
   "source": []
  },
  {
   "cell_type": "code",
   "execution_count": 68,
   "metadata": {},
   "outputs": [
    {
     "name": "stdout",
     "output_type": "stream",
     "text": [
      "Initializing xgboost.sklearn.XGBClassifier and starting training...\n"
     ]
    },
    {
     "name": "stderr",
     "output_type": "stream",
     "text": [
      "C:\\Users\\sparekh\\Anaconda3\\lib\\site-packages\\sklearn\\utils\\validation.py:73: DataConversionWarning: A column-vector y was passed when a 1d array was expected. Please change the shape of y to (n_samples, ), for example using ravel().\n",
      "  return f(**kwargs)\n"
     ]
    }
   ],
   "source": [
    "print('Initializing xgboost.sklearn.XGBClassifier and starting training...')\n",
    "\n",
    "\n",
    "clf = xgboost.sklearn.XGBClassifier(\n",
    "    objective=\"binary:logistic\", \n",
    "    learning_rate=0.05, \n",
    "    seed=9616, \n",
    "    max_depth=20, \n",
    "    gamma=10, \n",
    "    n_estimators=200)\n",
    "\n",
    "clf.fit(finalTrain, train_target)\n",
    "\n",
    "\n",
    "y_pred = clf.predict(finalTest)\n"
   ]
  },
  {
   "cell_type": "code",
   "execution_count": null,
   "metadata": {},
   "outputs": [],
   "source": []
  },
  {
   "cell_type": "code",
   "execution_count": null,
   "metadata": {},
   "outputs": [],
   "source": []
  },
  {
   "cell_type": "code",
   "execution_count": 69,
   "metadata": {},
   "outputs": [
    {
     "name": "stdout",
     "output_type": "stream",
     "text": [
      "[[0.9336975  0.0663025 ]\n",
      " [0.84742725 0.15257274]\n",
      " [0.944753   0.05524703]\n",
      " ...\n",
      " [0.8883864  0.11161359]\n",
      " [0.9756266  0.02437342]\n",
      " [0.8725029  0.12749709]]\n"
     ]
    },
    {
     "data": {
      "text/html": [
       "<div>\n",
       "<style scoped>\n",
       "    .dataframe tbody tr th:only-of-type {\n",
       "        vertical-align: middle;\n",
       "    }\n",
       "\n",
       "    .dataframe tbody tr th {\n",
       "        vertical-align: top;\n",
       "    }\n",
       "\n",
       "    .dataframe thead th {\n",
       "        text-align: right;\n",
       "    }\n",
       "</style>\n",
       "<table border=\"1\" class=\"dataframe\">\n",
       "  <thead>\n",
       "    <tr style=\"text-align: right;\">\n",
       "      <th></th>\n",
       "      <th>test_member_id</th>\n",
       "      <th>loan_status</th>\n",
       "    </tr>\n",
       "  </thead>\n",
       "  <tbody>\n",
       "    <tr>\n",
       "      <th>0</th>\n",
       "      <td>11937648</td>\n",
       "      <td>0.066303</td>\n",
       "    </tr>\n",
       "    <tr>\n",
       "      <th>1</th>\n",
       "      <td>38983318</td>\n",
       "      <td>0.152573</td>\n",
       "    </tr>\n",
       "    <tr>\n",
       "      <th>2</th>\n",
       "      <td>27999917</td>\n",
       "      <td>0.055247</td>\n",
       "    </tr>\n",
       "    <tr>\n",
       "      <th>3</th>\n",
       "      <td>61514932</td>\n",
       "      <td>0.051482</td>\n",
       "    </tr>\n",
       "    <tr>\n",
       "      <th>4</th>\n",
       "      <td>59622821</td>\n",
       "      <td>0.049256</td>\n",
       "    </tr>\n",
       "    <tr>\n",
       "      <th>...</th>\n",
       "      <td>...</td>\n",
       "      <td>...</td>\n",
       "    </tr>\n",
       "    <tr>\n",
       "      <th>354946</th>\n",
       "      <td>19145105</td>\n",
       "      <td>0.070862</td>\n",
       "    </tr>\n",
       "    <tr>\n",
       "      <th>354947</th>\n",
       "      <td>46304777</td>\n",
       "      <td>0.298769</td>\n",
       "    </tr>\n",
       "    <tr>\n",
       "      <th>354948</th>\n",
       "      <td>903745</td>\n",
       "      <td>0.111614</td>\n",
       "    </tr>\n",
       "    <tr>\n",
       "      <th>354949</th>\n",
       "      <td>53032475</td>\n",
       "      <td>0.024373</td>\n",
       "    </tr>\n",
       "    <tr>\n",
       "      <th>354950</th>\n",
       "      <td>994245</td>\n",
       "      <td>0.127497</td>\n",
       "    </tr>\n",
       "  </tbody>\n",
       "</table>\n",
       "<p>354951 rows × 2 columns</p>\n",
       "</div>"
      ],
      "text/plain": [
       "        test_member_id  loan_status\n",
       "0             11937648     0.066303\n",
       "1             38983318     0.152573\n",
       "2             27999917     0.055247\n",
       "3             61514932     0.051482\n",
       "4             59622821     0.049256\n",
       "...                ...          ...\n",
       "354946        19145105     0.070862\n",
       "354947        46304777     0.298769\n",
       "354948          903745     0.111614\n",
       "354949        53032475     0.024373\n",
       "354950          994245     0.127497\n",
       "\n",
       "[354951 rows x 2 columns]"
      ]
     },
     "execution_count": 69,
     "metadata": {},
     "output_type": "execute_result"
    }
   ],
   "source": [
    "df_output = pd.DataFrame()\n",
    "df_output['test_member_id'] = df_test['member_id']\n",
    "print(clf.predict_proba(np.array(finalTest)))\n",
    "df_output['loan_status'] = clf.predict_proba(np.array(finalTest))[:,[1]]\n",
    "\n",
    "\n",
    "df_output.shape\n",
    "df_output.to_csv(\"submission_xgb_200_final.csv\", index=False)\n",
    "df_output"
   ]
  },
  {
   "cell_type": "code",
   "execution_count": 72,
   "metadata": {},
   "outputs": [
    {
     "data": {
      "text/plain": [
       "(59505, 2)"
      ]
     },
     "execution_count": 72,
     "metadata": {},
     "output_type": "execute_result"
    }
   ],
   "source": [
    "df_output[df_output['loan_status'] > 0.5].shape"
   ]
  },
  {
   "cell_type": "code",
   "execution_count": null,
   "metadata": {},
   "outputs": [],
   "source": []
  },
  {
   "cell_type": "code",
   "execution_count": null,
   "metadata": {},
   "outputs": [],
   "source": []
  },
  {
   "cell_type": "code",
   "execution_count": null,
   "metadata": {},
   "outputs": [],
   "source": []
  },
  {
   "cell_type": "code",
   "execution_count": null,
   "metadata": {},
   "outputs": [],
   "source": []
  },
  {
   "cell_type": "code",
   "execution_count": null,
   "metadata": {},
   "outputs": [],
   "source": []
  },
  {
   "cell_type": "code",
   "execution_count": null,
   "metadata": {},
   "outputs": [],
   "source": []
  },
  {
   "cell_type": "code",
   "execution_count": null,
   "metadata": {},
   "outputs": [],
   "source": []
  },
  {
   "cell_type": "code",
   "execution_count": null,
   "metadata": {},
   "outputs": [],
   "source": []
  }
 ],
 "metadata": {
  "kernelspec": {
   "display_name": "Python 3",
   "language": "python",
   "name": "python3"
  },
  "language_info": {
   "codemirror_mode": {
    "name": "ipython",
    "version": 3
   },
   "file_extension": ".py",
   "mimetype": "text/x-python",
   "name": "python",
   "nbconvert_exporter": "python",
   "pygments_lexer": "ipython3",
   "version": "3.8.3"
  }
 },
 "nbformat": 4,
 "nbformat_minor": 4
}
